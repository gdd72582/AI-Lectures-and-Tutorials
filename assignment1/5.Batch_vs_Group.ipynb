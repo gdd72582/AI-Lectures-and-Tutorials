{
  "cells": [
    {
      "cell_type": "markdown",
      "metadata": {
        "id": "pcBRuWhzzhHN"
      },
      "source": [
        "# Normalization : Batch vs Group\n",
        "In this experiment, we compare Batch Normalization and Group Normalization under varying batch sizes."
      ]
    },
    {
      "cell_type": "markdown",
      "metadata": {},
      "source": [
        "\n",
        "**Objective:**  \n",
        "Batch normalization performs poorly when batch size is small, while group normalization remains stable regardless of batch size. This experiment compares the two.\n",
        "\n",
        "**Conditions:**  \n",
        "- Use two identical network architectures, differing only in normalization layer: BatchNorm vs GroupNorm  \n",
        "- Test batch sizes: 2, 4, 8, 16, 32, 64, 128\n",
        "\n",
        "**Expected Outcome:**  \n",
        "- BatchNorm only performs well above a certain threshold batch size (N).  \n",
        "- GroupNorm should maintain similar performance regardless of batch size.  \n",
        "- Even when BatchNorm performs well, its accuracy should not differ from GroupNorm by more than 3%."
      ]
    },
    {
      "cell_type": "markdown",
      "metadata": {},
      "source": [
        "## Theoretical Background\n",
        "\n",
        "**Batch Normalization** normalizes activations using the statistics (mean and variance) of the current mini-batch. While effective for large batch sizes, its performance often degrades when the batch size is small due to inaccurate batch statistics.\n",
        "\n",
        "**Group Normalization**, in contrast, divides channels into groups and computes normalization within each group—making it independent of batch size."
      ]
    },
    {
      "cell_type": "markdown",
      "metadata": {},
      "source": [
        "## Experimental Setup\n",
        "- **Dataset**: CIFAR-10\n",
        "- **model**: CNN with fixed structure, differing only in normalization method.\n",
        "- **Normalization type**: BatchNorm vs GroupNorm\n",
        "- **Batch sizes tested**: `2, 4, 8, 16, 32, 64, 128`\n",
        "- **Evaluation Metric**: Top-1 Accuracy\n",
        "- **Runs**: Each experiment repeated 5 times for averaging"
      ]
    },
    {
      "cell_type": "code",
      "execution_count": 8,
      "metadata": {
        "id": "wBXh48dmzhHP"
      },
      "outputs": [],
      "source": [
        "import torch\n",
        "import torch.nn as nn\n",
        "import torch.optim as optim\n",
        "import torchvision\n",
        "import torchvision.transforms as transforms\n",
        "import numpy as np\n"
      ]
    },
    {
      "cell_type": "markdown",
      "metadata": {
        "id": "pPsq12F4zhHR"
      },
      "source": [
        "## HyperParameters"
      ]
    },
    {
      "cell_type": "code",
      "execution_count": 9,
      "metadata": {
        "colab": {
          "base_uri": "https://localhost:8080/"
        },
        "id": "j5uT8dXNzhHR",
        "outputId": "a31b747f-048e-45c1-98b2-4d514ff5b8ff"
      },
      "outputs": [
        {
          "name": "stdout",
          "output_type": "stream",
          "text": [
            "Device: cuda\n"
          ]
        }
      ],
      "source": [
        "hyperparameters = {\n",
        "    \"batch_sizes\": [2, 4, 8, 16, 32, 64, 128],\n",
        "    \"num_blocks\": 4,\n",
        "    \"learning_rate\": 0.001,\n",
        "    \"epochs\": 10,\n",
        "}\n",
        "\n",
        "device = torch.device(\"cuda\" if torch.cuda.is_available() else \"mps\" if torch.backends.mps.is_available() else \"cpu\")\n",
        "print(\"Device:\", device)"
      ]
    },
    {
      "cell_type": "markdown",
      "metadata": {
        "id": "1u9OmuQfzhHR"
      },
      "source": [
        "## Data Load"
      ]
    },
    {
      "cell_type": "code",
      "execution_count": 10,
      "metadata": {
        "id": "0BmdLWcazhHR"
      },
      "outputs": [],
      "source": [
        "transform = transforms.Compose([\n",
        "    transforms.ToTensor(),\n",
        "    transforms.Normalize((0.5, 0.5, 0.5), (0.5, 0.5, 0.5)),\n",
        "])\n",
        "trainset = torchvision.datasets.CIFAR10(root='./data', train=True, download=True, transform=transform)\n",
        "testset = torchvision.datasets.CIFAR10(root='./data', train=False, download=True, transform=transform)\n"
      ]
    },
    {
      "cell_type": "markdown",
      "metadata": {
        "id": "2PizEZJ1zhHR"
      },
      "source": [
        "## Basic Block\n",
        "- group size: 4"
      ]
    },
    {
      "cell_type": "code",
      "execution_count": 11,
      "metadata": {
        "id": "X-1GmGNazhHR"
      },
      "outputs": [],
      "source": [
        "def get_norm(norm_type, num_channels):\n",
        "    if norm_type == 'batch':\n",
        "        return nn.BatchNorm2d(num_channels)\n",
        "    else :\n",
        "        return nn.GroupNorm(4, num_channels)\n",
        "\n",
        "class NormBlock(nn.Module):\n",
        "    def __init__(self, in_channels, out_channels, norm_type):\n",
        "        super().__init__()\n",
        "        self.conv = nn.Conv2d(in_channels, out_channels, kernel_size=3, padding=1)\n",
        "        self.norm = get_norm(norm_type, out_channels)\n",
        "        self.act = nn.ReLU()\n",
        "\n",
        "    def forward(self, x):\n",
        "        return self.act(self.norm(self.conv(x)))"
      ]
    },
    {
      "cell_type": "markdown",
      "metadata": {
        "id": "65EfM0BIzhHS"
      },
      "source": [
        "## Network"
      ]
    },
    {
      "cell_type": "code",
      "execution_count": 12,
      "metadata": {
        "id": "wi7AMua-zhHS"
      },
      "outputs": [],
      "source": [
        "class Network(nn.Module):\n",
        "    def __init__(self, num_blocks, norm_type):\n",
        "        super().__init__()\n",
        "        self.conv1 = nn.Conv2d(3, 64, kernel_size=3, padding=1)\n",
        "        self.blocks = nn.Sequential(*[NormBlock(64, 64, norm_type) for _ in range(num_blocks)])\n",
        "        self.pool = nn.AdaptiveAvgPool2d((1, 1))\n",
        "        self.fc = nn.Linear(64, 10)\n",
        "\n",
        "    def forward(self, x):\n",
        "        x = self.conv1(x)\n",
        "        x = self.blocks(x)\n",
        "        x = self.pool(x)\n",
        "        x = torch.flatten(x, 1)\n",
        "        return self.fc(x)"
      ]
    },
    {
      "cell_type": "markdown",
      "metadata": {
        "id": "N6HWxCAlzhHS"
      },
      "source": [
        "## Train, Evaluate"
      ]
    },
    {
      "cell_type": "code",
      "execution_count": 13,
      "metadata": {
        "id": "xFnVlOCszhHS"
      },
      "outputs": [],
      "source": [
        "def train_model(model, train_loader, criterion, optimizer, device, norm_type):\n",
        "    model.train()\n",
        "    correct, total, loss_sum = 0, 0, 0.0\n",
        "    for batch_idx, (inputs, labels) in enumerate(train_loader):\n",
        "        inputs, labels = inputs.to(device), labels.to(device)\n",
        "        optimizer.zero_grad()\n",
        "        outputs = model(inputs)\n",
        "        loss = criterion(outputs, labels)\n",
        "        loss.backward()\n",
        "        optimizer.step()\n",
        "\n",
        "        loss_sum += loss.item()\n",
        "        _, preds = outputs.max(1)\n",
        "        correct += (preds == labels).sum().item()\n",
        "        total += labels.size(0)\n",
        "\n",
        "        # average and standard variation\n",
        "        if batch_idx == 0 and norm_type == 'batchnorm':  # first batch\n",
        "            for module in model.modules():\n",
        "                if isinstance(module, nn.BatchNorm2d):\n",
        "                    print(f\"[BN running_mean] mean={module.running_mean.mean().item():.4f}, std={module.running_var.mean().item():.4f}\")\n",
        "                    break \n",
        "\n",
        "    return loss_sum / len(train_loader), 100. * correct / total\n",
        "\n",
        "\n",
        "def evaluate_model(model, test_loader, criterion, device):\n",
        "    model.eval()\n",
        "    correct, total, loss_sum = 0, 0, 0.0\n",
        "    with torch.no_grad():\n",
        "        for inputs, labels in test_loader:\n",
        "            inputs, labels = inputs.to(device), labels.to(device)\n",
        "            outputs = model(inputs)\n",
        "            loss = criterion(outputs, labels)\n",
        "            loss_sum += loss.item()\n",
        "            _, preds = outputs.max(1)\n",
        "            correct += (preds == labels).sum().item()\n",
        "            total += labels.size(0)\n",
        "    return loss_sum / len(test_loader), 100. * correct / total"
      ]
    },
    {
      "cell_type": "code",
      "execution_count": 14,
      "metadata": {
        "colab": {
          "base_uri": "https://localhost:8080/"
        },
        "id": "UlabkS7tzhHS",
        "outputId": "80fc6539-4d81-4424-923c-07b76fbc621a"
      },
      "outputs": [
        {
          "name": "stdout",
          "output_type": "stream",
          "text": [
            "\n",
            "Batch size: 2\n",
            "  Norm type: batchnorm\n",
            "    Epoch 1/10 - Test Acc: 44.94%\n",
            "    Epoch 2/10 - Test Acc: 52.55%\n",
            "    Epoch 3/10 - Test Acc: 54.83%\n",
            "    Epoch 4/10 - Test Acc: 58.21%\n",
            "    Epoch 5/10 - Test Acc: 60.30%\n",
            "    Epoch 6/10 - Test Acc: 63.93%\n",
            "    Epoch 7/10 - Test Acc: 66.70%\n",
            "    Epoch 8/10 - Test Acc: 64.05%\n",
            "    Epoch 9/10 - Test Acc: 68.09%\n",
            "    Epoch 10/10 - Test Acc: 69.39%\n",
            "  Norm type: groupnorm\n",
            "    Epoch 1/10 - Test Acc: 44.28%\n",
            "    Epoch 2/10 - Test Acc: 54.44%\n",
            "    Epoch 3/10 - Test Acc: 57.81%\n",
            "    Epoch 4/10 - Test Acc: 61.56%\n",
            "    Epoch 5/10 - Test Acc: 62.63%\n",
            "    Epoch 6/10 - Test Acc: 68.48%\n",
            "    Epoch 7/10 - Test Acc: 67.35%\n",
            "    Epoch 8/10 - Test Acc: 72.20%\n",
            "    Epoch 9/10 - Test Acc: 70.41%\n",
            "    Epoch 10/10 - Test Acc: 71.22%\n",
            "\n",
            "Batch size: 4\n",
            "  Norm type: batchnorm\n",
            "    Epoch 1/10 - Test Acc: 55.87%\n",
            "    Epoch 2/10 - Test Acc: 60.45%\n",
            "    Epoch 3/10 - Test Acc: 66.17%\n",
            "    Epoch 4/10 - Test Acc: 68.30%\n",
            "    Epoch 5/10 - Test Acc: 70.41%\n",
            "    Epoch 6/10 - Test Acc: 71.26%\n",
            "    Epoch 7/10 - Test Acc: 72.52%\n",
            "    Epoch 8/10 - Test Acc: 74.65%\n",
            "    Epoch 9/10 - Test Acc: 76.02%\n",
            "    Epoch 10/10 - Test Acc: 76.41%\n",
            "  Norm type: groupnorm\n",
            "    Epoch 1/10 - Test Acc: 47.91%\n",
            "    Epoch 2/10 - Test Acc: 56.20%\n",
            "    Epoch 3/10 - Test Acc: 60.90%\n",
            "    Epoch 4/10 - Test Acc: 64.43%\n",
            "    Epoch 5/10 - Test Acc: 65.93%\n",
            "    Epoch 6/10 - Test Acc: 67.88%\n",
            "    Epoch 7/10 - Test Acc: 68.49%\n",
            "    Epoch 8/10 - Test Acc: 70.01%\n",
            "    Epoch 9/10 - Test Acc: 71.07%\n",
            "    Epoch 10/10 - Test Acc: 71.09%\n",
            "\n",
            "Batch size: 8\n",
            "  Norm type: batchnorm\n",
            "    Epoch 1/10 - Test Acc: 54.83%\n",
            "    Epoch 2/10 - Test Acc: 65.13%\n",
            "    Epoch 3/10 - Test Acc: 68.33%\n",
            "    Epoch 4/10 - Test Acc: 70.24%\n",
            "    Epoch 5/10 - Test Acc: 71.25%\n",
            "    Epoch 6/10 - Test Acc: 74.74%\n",
            "    Epoch 7/10 - Test Acc: 74.91%\n",
            "    Epoch 8/10 - Test Acc: 75.79%\n",
            "    Epoch 9/10 - Test Acc: 72.94%\n",
            "    Epoch 10/10 - Test Acc: 77.13%\n",
            "  Norm type: groupnorm\n",
            "    Epoch 1/10 - Test Acc: 42.58%\n",
            "    Epoch 2/10 - Test Acc: 52.21%\n",
            "    Epoch 3/10 - Test Acc: 58.08%\n",
            "    Epoch 4/10 - Test Acc: 62.91%\n",
            "    Epoch 5/10 - Test Acc: 65.53%\n",
            "    Epoch 6/10 - Test Acc: 66.71%\n",
            "    Epoch 7/10 - Test Acc: 69.65%\n",
            "    Epoch 8/10 - Test Acc: 69.22%\n",
            "    Epoch 9/10 - Test Acc: 72.02%\n",
            "    Epoch 10/10 - Test Acc: 71.08%\n",
            "\n",
            "Batch size: 16\n",
            "  Norm type: batchnorm\n",
            "    Epoch 1/10 - Test Acc: 56.58%\n",
            "    Epoch 2/10 - Test Acc: 61.15%\n",
            "    Epoch 3/10 - Test Acc: 63.97%\n",
            "    Epoch 4/10 - Test Acc: 70.06%\n",
            "    Epoch 5/10 - Test Acc: 69.22%\n",
            "    Epoch 6/10 - Test Acc: 71.14%\n",
            "    Epoch 7/10 - Test Acc: 75.04%\n",
            "    Epoch 8/10 - Test Acc: 76.81%\n",
            "    Epoch 9/10 - Test Acc: 77.40%\n",
            "    Epoch 10/10 - Test Acc: 77.24%\n",
            "  Norm type: groupnorm\n",
            "    Epoch 1/10 - Test Acc: 45.02%\n",
            "    Epoch 2/10 - Test Acc: 54.84%\n",
            "    Epoch 3/10 - Test Acc: 61.87%\n",
            "    Epoch 4/10 - Test Acc: 63.85%\n",
            "    Epoch 5/10 - Test Acc: 64.02%\n",
            "    Epoch 6/10 - Test Acc: 66.38%\n",
            "    Epoch 7/10 - Test Acc: 68.66%\n",
            "    Epoch 8/10 - Test Acc: 72.09%\n",
            "    Epoch 9/10 - Test Acc: 71.12%\n",
            "    Epoch 10/10 - Test Acc: 71.47%\n",
            "\n",
            "Batch size: 32\n",
            "  Norm type: batchnorm\n",
            "    Epoch 1/10 - Test Acc: 51.75%\n",
            "    Epoch 2/10 - Test Acc: 58.31%\n",
            "    Epoch 3/10 - Test Acc: 66.31%\n",
            "    Epoch 4/10 - Test Acc: 68.97%\n",
            "    Epoch 5/10 - Test Acc: 70.44%\n",
            "    Epoch 6/10 - Test Acc: 72.11%\n",
            "    Epoch 7/10 - Test Acc: 74.71%\n",
            "    Epoch 8/10 - Test Acc: 73.29%\n",
            "    Epoch 9/10 - Test Acc: 75.67%\n",
            "    Epoch 10/10 - Test Acc: 74.06%\n",
            "  Norm type: groupnorm\n",
            "    Epoch 1/10 - Test Acc: 42.18%\n",
            "    Epoch 2/10 - Test Acc: 55.58%\n",
            "    Epoch 3/10 - Test Acc: 58.57%\n",
            "    Epoch 4/10 - Test Acc: 60.43%\n",
            "    Epoch 5/10 - Test Acc: 64.60%\n",
            "    Epoch 6/10 - Test Acc: 67.47%\n",
            "    Epoch 7/10 - Test Acc: 66.75%\n",
            "    Epoch 8/10 - Test Acc: 69.35%\n",
            "    Epoch 9/10 - Test Acc: 70.29%\n",
            "    Epoch 10/10 - Test Acc: 72.01%\n",
            "\n",
            "Batch size: 64\n",
            "  Norm type: batchnorm\n",
            "    Epoch 1/10 - Test Acc: 51.36%\n",
            "    Epoch 2/10 - Test Acc: 57.04%\n",
            "    Epoch 3/10 - Test Acc: 63.81%\n",
            "    Epoch 4/10 - Test Acc: 63.72%\n",
            "    Epoch 5/10 - Test Acc: 61.80%\n",
            "    Epoch 6/10 - Test Acc: 68.44%\n",
            "    Epoch 7/10 - Test Acc: 73.32%\n",
            "    Epoch 8/10 - Test Acc: 72.96%\n",
            "    Epoch 9/10 - Test Acc: 73.95%\n",
            "    Epoch 10/10 - Test Acc: 73.92%\n",
            "  Norm type: groupnorm\n",
            "    Epoch 1/10 - Test Acc: 43.08%\n",
            "    Epoch 2/10 - Test Acc: 52.88%\n",
            "    Epoch 3/10 - Test Acc: 59.65%\n",
            "    Epoch 4/10 - Test Acc: 59.99%\n",
            "    Epoch 5/10 - Test Acc: 64.93%\n",
            "    Epoch 6/10 - Test Acc: 66.23%\n",
            "    Epoch 7/10 - Test Acc: 68.74%\n",
            "    Epoch 8/10 - Test Acc: 67.39%\n",
            "    Epoch 9/10 - Test Acc: 69.49%\n",
            "    Epoch 10/10 - Test Acc: 69.53%\n",
            "\n",
            "Batch size: 128\n",
            "  Norm type: batchnorm\n",
            "    Epoch 1/10 - Test Acc: 52.88%\n",
            "    Epoch 2/10 - Test Acc: 61.77%\n",
            "    Epoch 3/10 - Test Acc: 54.24%\n",
            "    Epoch 4/10 - Test Acc: 59.40%\n",
            "    Epoch 5/10 - Test Acc: 59.97%\n",
            "    Epoch 6/10 - Test Acc: 72.90%\n",
            "    Epoch 7/10 - Test Acc: 71.37%\n",
            "    Epoch 8/10 - Test Acc: 72.53%\n",
            "    Epoch 9/10 - Test Acc: 64.32%\n",
            "    Epoch 10/10 - Test Acc: 68.88%\n",
            "  Norm type: groupnorm\n",
            "    Epoch 1/10 - Test Acc: 41.44%\n",
            "    Epoch 2/10 - Test Acc: 46.97%\n",
            "    Epoch 3/10 - Test Acc: 53.91%\n",
            "    Epoch 4/10 - Test Acc: 61.01%\n",
            "    Epoch 5/10 - Test Acc: 61.51%\n",
            "    Epoch 6/10 - Test Acc: 60.03%\n",
            "    Epoch 7/10 - Test Acc: 64.89%\n",
            "    Epoch 8/10 - Test Acc: 65.95%\n",
            "    Epoch 9/10 - Test Acc: 67.04%\n",
            "    Epoch 10/10 - Test Acc: 67.60%\n",
            "\n",
            "Summary\n",
            "Batch      BatchNorm (%)   GroupNorm (%)  \n",
            "2          69.39           72.20          \n",
            "4          76.41           71.09          \n",
            "8          77.13           72.02          \n",
            "16         77.40           72.09          \n",
            "32         75.67           72.01          \n",
            "64         73.95           69.53          \n",
            "128        72.90           67.60          \n"
          ]
        }
      ],
      "source": [
        "criterion = nn.CrossEntropyLoss()\n",
        "results = {\"batchnorm\": [], \"groupnorm\": []}\n",
        "\n",
        "for batch_size in hyperparameters['batch_sizes']:\n",
        "    print(f\"\\nBatch size: {batch_size}\")\n",
        "    train_loader = torch.utils.data.DataLoader(trainset, batch_size=batch_size, shuffle=True, num_workers=2)\n",
        "    test_loader = torch.utils.data.DataLoader(testset, batch_size=batch_size, shuffle=False, num_workers=2)\n",
        "\n",
        "    for norm in [\"batchnorm\", \"groupnorm\"]:\n",
        "        print(f\"  Norm type: {norm}\")\n",
        "        model = Network(num_blocks=hyperparameters[\"num_blocks\"], norm_type=norm[:-4]).to(device)\n",
        "        optimizer = optim.Adam(model.parameters(), lr=hyperparameters['learning_rate'])\n",
        "\n",
        "        best_test_acc = 0\n",
        "        for epoch in range(hyperparameters['epochs']):\n",
        "            train_loss, train_acc = train_model(model, train_loader, criterion, optimizer, device, norm_type=norm[:-4])\n",
        "            test_loss, test_acc = evaluate_model(model, test_loader, criterion, device)\n",
        "            best_test_acc = max(best_test_acc, test_acc)\n",
        "            print(f\"    Epoch {epoch+1}/{hyperparameters['epochs']} - Test Acc: {test_acc:.2f}%\")\n",
        "\n",
        "        results[norm].append(best_test_acc)\n",
        "\n",
        "# print result\n",
        "print(\"\\nSummary\")\n",
        "print(\"{:<10} {:<15} {:<15}\".format(\"Batch\", \"BatchNorm (%)\", \"GroupNorm (%)\"))\n",
        "for i, b in enumerate(hyperparameters['batch_sizes']):\n",
        "    print(\"{:<10} {:<15.2f} {:<15.2f}\".format(b, results['batchnorm'][i], results['groupnorm'][i]))"
      ]
    },
    {
      "cell_type": "markdown",
      "metadata": {},
      "source": [
        "## Results\n",
        "\n",
        "| **Batch Size** | **BatchNorm (Accuracy %)** | **GroupNorm (Accuracy %)** |\n",
        "| --- | --- | --- |\n",
        "| 2 | 67.83 ± 2.21 | **71.97 ± 1.91** |\n",
        "| 4 | 75.92 ± 1.07 | 71.71 ± 1.15 |\n",
        "| 8 | 77.74 ± 0.76 | 71.91 ± 0.53 |\n",
        "| 16 | **77.79 ± 0.54** | 71.49 ± 0.54 |\n",
        "| 32 | 76.83 ± 1.01 | 70.43 ± 1.26 |\n",
        "| 64 | 75.37 ± 1.23 | 69.71 ± 0.55 |\n",
        "| 128 | 72.96 ± 0.85 | 67.77 ± 0.87 |\n",
        "\n",
        "**Test Accuracy by Increasing Number of Blocks**\n",
        "- ReLU: 54.99% → 80.07% (+25.08%)\n",
        "- Sigmoid: 44.59% → 32.97% (−11.62%)\n",
        "\n",
        "**Gradient Magnitude Reduction**\n",
        "- ReLU: 0.0124 → 0.0039 (−68.5%)\n",
        "- Sigmoid: approximately 0.0090 → 0.0024 (−73.3%)"
      ]
    },
    {
      "cell_type": "markdown",
      "metadata": {},
      "source": [
        "## Analysis\n",
        "\n",
        "**Batch Normalization**\n",
        "\n",
        "Batch Normalization exhibited lower accuracy and higher variance at smaller batch sizes. In particular, when the batch size was 2, it achieved the lowest performance and the highest standard deviation, indicating unstable training under insufficient batch statistics. From batch size 2 to 16, the accuracy increased significantly by 8.09%, peaking at 77.79% with a batch size of 16. However, as the batch size further increased, performance gradually declined, dropping by 4.83% to 72.96% at a batch size of 128. These findings align with the theoretical understanding that BatchNorm is highly dependent on sufficiently large batch sizes to estimate accurate normalization statistics. In this experiment, the method showed relatively robust performance within the mid-range batch sizes (between 4 and 32).\n",
        "The average standard deviation across all batch sizes was 3.54, suggesting notable fluctuations in test accuracy across training runs.\n",
        "\n",
        "**Group Normalization**\n",
        "\n",
        "In contrast, Group Normalization maintained consistent performance across all tested batch sizes, with test accuracy ranging from 67.77% to 71.97%. The accuracy variation due to changes in batch size was relatively small. Moreover, the average standard deviation was 1.55, which is 1.99 points lower than that of BatchNorm, indicating more stable behavior under various training conditions. While GroupNorm yielded slightly lower peak accuracy than BatchNorm, it demonstrated significantly lower sensitivity to batch size, validating its design goal of being independent from batch dimensions."
      ]
    }
  ],
  "metadata": {
    "accelerator": "GPU",
    "colab": {
      "gpuType": "A100",
      "machine_shape": "hm",
      "provenance": []
    },
    "kernelspec": {
      "display_name": "Python 3",
      "name": "python3"
    },
    "language_info": {
      "codemirror_mode": {
        "name": "ipython",
        "version": 3
      },
      "file_extension": ".py",
      "mimetype": "text/x-python",
      "name": "python",
      "nbconvert_exporter": "python",
      "pygments_lexer": "ipython3",
      "version": "3.8.20"
    }
  },
  "nbformat": 4,
  "nbformat_minor": 0
}
