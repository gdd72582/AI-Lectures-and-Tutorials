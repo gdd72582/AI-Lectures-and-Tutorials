{
 "cells": [
  {
   "cell_type": "markdown",
   "metadata": {},
   "source": [
    "# 1. 인공지능 개념"
   ]
  },
  {
   "cell_type": "markdown",
   "metadata": {},
   "source": [
    "## 1-1. 인공지능, 기계학습, 딥러닝"
   ]
  },
  {
   "cell_type": "markdown",
   "metadata": {},
   "source": [
    "![1.1](/Users/hanga-eun/Desktop/git/AI_Lecture/assignment1/1.jpg)"
   ]
  },
  {
   "cell_type": "markdown",
   "metadata": {},
   "source": [
    "### 1. Artificial Intelligence\n",
    "- 정의: \n",
    "    - 사람이 수행하는 지능적인 작업을 자동화하기 위한 컴퓨터 과학의 한 분야\n",
    "    - 인간의 인지, 학습, 추론, 문제해결 과정을 모방한다.\n",
    "\n",
    "- 출발점:\n",
    "    - 1950년대, 컴퓨터가 생각할 수 있는가?라는 질문에서 시작됨.\n",
    "    - 심볼릭 AI: hard-coding 기반으로 구성된 시스템\n",
    "\n",
    "### 2. Machine Learning\n",
    "- 정의:\n",
    "    - 데이터를 통해 규칙을 스스로 학습하는 방법론.\n",
    "\n",
    "- 작동 방식:\n",
    "    - 입력: 데이터와 사람이 레이블링한 정답\n",
    "    - 학습: 통계적 패턴을 학습\n",
    "    - 출력: 자동화 규칙을 생성.\n",
    "\n",
    "- 특징:\n",
    "    - 1990년대 이후, 고성능 컴퓨팅, 대규모 데이터셋으로 머신러닝 성장.\n",
    "\n",
    "### 3. Deep Learning\n",
    "- 정의:\n",
    "    - 머신러닝의 하위 분야로, 특히 이미지, 음성, 텍스트와 같이 비정형 데이터를 주로 다룸.\n",
    "\n",
    "- 머신러닝과 차별점:\n",
    "    - 머신러닝: 사람이 직접 label\n",
    "    - 딥러닝: feature extraction 자동화\n",
    "\n",
    "- 딥러닝의 핵심 구조:\n",
    "    - 입력층 -> 은닉층 -> 출력층\n",
    "    - 이때, 딥러닝의 딥은 층이 많다는 뜻\n",
    "    - 각 층은 이전 층의 출력을 입력으로 받아 계산과 변환을 수행한다.\n"
   ]
  },
  {
   "cell_type": "markdown",
   "metadata": {},
   "source": [
    "## 1-2. 2012년, 딥러닝 성장 배경\n",
    "\n",
    "ImageNet 대회(ILSVRC 2012)에서 Alexnet이 Top5오류율 15.3% 기록\n",
    "이전 최고 성능(25.8%)보다 10.5%p 감소, 상대적으로 41%감소\n",
    "\n",
    "### 1. 시대적 배경\n",
    "\n",
    "- 대규모 이미지 데이터셋\n",
    "- GPU 기반 학습\n",
    "- CNN 도입 본격화\n",
    "\n",
    "\n",
    "### 2. 기술적 혁신\n",
    "\n",
    "- ReLU 활성화\n",
    "- Dropout\n",
    "- Data augmentation\n",
    "\n",
    "### 3. 이후 영향\n",
    "\n",
    "- 모델 구조 심화\n",
    "- GPU 시장 성장\n",
    "- transpose 학습 표준화"
   ]
  },
  {
   "cell_type": "markdown",
   "metadata": {},
   "source": [
    "# 2. 딥러닝 학습"
   ]
  },
  {
   "cell_type": "markdown",
   "metadata": {},
   "source": [
    "## 2-1. \n",
    "\n",
    "\n",
    "## 2-2. "
   ]
  }
 ],
 "metadata": {
  "language_info": {
   "name": "python"
  }
 },
 "nbformat": 4,
 "nbformat_minor": 2
}
