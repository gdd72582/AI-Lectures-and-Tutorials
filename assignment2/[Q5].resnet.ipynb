{
  "cells": [
    {
      "cell_type": "markdown",
      "metadata": {},
      "source": [
        "# ResNet 계열에서 레이어 수가 성능에 미치는 영향 분석\n",
        "\n",
        "본 실험은 ResNet 구조에서 레이어 수가 늘어날수록 모델의 성능이 유지되거나 향상되는지를 확인하고자 수행되었다.\n",
        "ResNet-18, ResNet-50, ResNet-101의 세 가지 구조를 동일한 조건(CIFAR-10, 학습률, 배치 크기 등)하에서 학습한 후, 성능과 gradient 흐름을 비교 분석하였다.\n"
      ]
    },
    {
      "cell_type": "markdown",
      "metadata": {},
      "source": [
        "## ResNet(Residual Network)\n",
        "\n",
        "ResNet은 딥러닝 모델이 깊어질수록 발생하는 vanishing gradient 문제를 해결하기 위해 skip connection을 도입한 구조이다.\n",
        "핵심 개념은 **잔차 학습(residual learning)**으로, 각 블록이 입력을 그대로 출력에 더해주는 방식으로 gradient가 더 깊은 계층까지 안정적으로 전달된다."
      ]
    },
    {
      "cell_type": "code",
      "execution_count": null,
      "metadata": {},
      "outputs": [],
      "source": [
        "import torch\n",
        "import torch.nn as nn\n",
        "import torchvision\n",
        "import torchvision.transforms as transforms\n",
        "from torch.utils.data import DataLoader\n",
        "import matplotlib.pyplot as plt\n",
        "import time\n",
        "import os\n",
        "from tqdm import tqdm\n",
        "import numpy as np\n",
        "\n",
        "#Configuration \n",
        "CONFIG = {\n",
        "    \"model_name\": \"ResNet\",\n",
        "    \"dataset_name\": \"CIFAR10\",\n",
        "    \"num_classes\": 10,\n",
        "    \"batch_size\": 128,\n",
        "    \"epochs\": 100,  \n",
        "    \"learning_rate\": 0.1, \n",
        "    \"momentum\": 0.9,\n",
        "    \"weight_decay\": 5e-4, \n",
        "    \"gamma\": 0.1, \n",
        "    \"step_size\": 30,\n",
        "    \"save_path\": \"./results/resnet_comparison.png\",\n",
        "    \"device\": torch.device(\"mps\" if torch.backends.mps.is_available() else \"cuda\" if torch.cuda.is_available() else \"cpu\"),\n",
        "    \"data_root\": \"./data\"\n",
        "}\n"
      ]
    },
    {
      "cell_type": "code",
      "execution_count": null,
      "metadata": {},
      "outputs": [],
      "source": [
        "\n",
        "# --- Gradient Tracking Classes ---\n",
        "class GradientTracker:\n",
        "    def __init__(self):\n",
        "        self.gradients = {}\n",
        "        self.hooks = []\n",
        "        self.module_names = {} # To store human-readable names for modules\n",
        "\n",
        "    def register_hook(self, name, module):\n",
        "        # Register a hook to capture gradients of the output (grad_output) of a module\n",
        "        def hook_fn(module, grad_input, grad_output):\n",
        "            if grad_output and grad_output[0] is not None:\n",
        "                # Store the mean absolute gradient magnitude\n",
        "                self.gradients[name] = grad_output[0].abs().mean().item()\n",
        "            else:\n",
        "                self.gradients[name] = 0.0\n",
        "        self.hooks.append(module.register_backward_hook(hook_fn))\n",
        "        self.module_names[module] = name # Store the name for the module\n",
        "\n",
        "    def clear(self):\n",
        "        self.gradients.clear()\n",
        "        for hook in self.hooks:\n",
        "            hook.remove()\n",
        "        self.hooks.clear()\n",
        "        self.module_names.clear()\n",
        "\n",
        "# Global tracker instance\n",
        "global_grad_tracker = GradientTracker()\n",
        "\n",
        "# Global tracker instance\n",
        "global_grad_tracker = GradientTracker()"
      ]
    },
    {
      "cell_type": "code",
      "execution_count": null,
      "metadata": {},
      "outputs": [],
      "source": [
        "# --- ResNet Building Blocks ---\n",
        "class BasicBlock(nn.Module):\n",
        "    expansion = 1\n",
        "\n",
        "    def __init__(self, in_channels, out_channels, stride=1):\n",
        "        super(BasicBlock, self).__init__()\n",
        "        self.conv1 = nn.Conv2d(in_channels, out_channels, kernel_size=3, stride=stride, padding=1, bias=False)\n",
        "        self.bn1 = nn.BatchNorm2d(out_channels)\n",
        "        self.relu = nn.ReLU(inplace=True)\n",
        "        self.conv2 = nn.Conv2d(out_channels, out_channels, kernel_size=3, stride=1, padding=1, bias=False)\n",
        "        self.bn2 = nn.BatchNorm2d(out_channels)\n",
        "\n",
        "        self.shortcut = nn.Sequential()\n",
        "        if stride != 1 or in_channels != self.expansion * out_channels:\n",
        "            self.shortcut = nn.Sequential(\n",
        "                nn.Conv2d(in_channels, self.expansion * out_channels, kernel_size=1, stride=stride, bias=False),\n",
        "                nn.BatchNorm2d(self.expansion * out_channels)\n",
        "            )\n",
        "\n",
        "    def forward(self, x):\n",
        "        identity = x\n",
        "\n",
        "        out = self.relu(self.bn1(self.conv1(x)))\n",
        "        out = self.bn2(self.conv2(out))\n",
        "\n",
        "        out += self.shortcut(identity)\n",
        "        out = self.relu(out)\n",
        "        return out\n",
        "\n",
        "class Bottleneck(nn.Module):\n",
        "    expansion = 4\n",
        "\n",
        "    def __init__(self, in_channels, out_channels, stride=1):\n",
        "        super(Bottleneck, self).__init__()\n",
        "        self.conv1 = nn.Conv2d(in_channels, out_channels, kernel_size=1, bias=False)\n",
        "        self.bn1 = nn.BatchNorm2d(out_channels)\n",
        "        self.conv2 = nn.Conv2d(out_channels, out_channels, kernel_size=3, stride=stride, padding=1, bias=False)\n",
        "        self.bn2 = nn.BatchNorm2d(out_channels)\n",
        "        self.conv3 = nn.Conv2d(out_channels, self.expansion * out_channels, kernel_size=1, bias=False)\n",
        "        self.bn3 = nn.BatchNorm2d(self.expansion * out_channels)\n",
        "\n",
        "        self.relu = nn.ReLU(inplace=True)\n",
        "\n",
        "        self.shortcut = nn.Sequential()\n",
        "        if stride != 1 or in_channels != self.expansion * out_channels:\n",
        "            self.shortcut = nn.Sequential(\n",
        "                nn.Conv2d(in_channels, self.expansion * out_channels, kernel_size=1, stride=stride, bias=False),\n",
        "                nn.BatchNorm2d(self.expansion * out_channels)\n",
        "            )\n",
        "\n",
        "    def forward(self, x):\n",
        "        identity = x\n",
        "\n",
        "        out = self.relu(self.bn1(self.conv1(x)))\n",
        "        out = self.relu(self.bn2(self.conv2(out)))\n",
        "        out = self.bn3(self.conv3(out))\n",
        "\n",
        "        out += self.shortcut(identity)\n",
        "        out = self.relu(out)\n",
        "        return out\n",
        "\n",
        "class ResNet(nn.Module):\n",
        "    def __init__(self, block, num_blocks, num_classes=10):\n",
        "        super(ResNet, self).__init__()\n",
        "        self.in_channels = 64\n",
        "\n",
        "        self.conv1 = nn.Conv2d(3, 64, kernel_size=3, stride=1, padding=1, bias=False)\n",
        "        self.bn1 = nn.BatchNorm2d(64)\n",
        "        self.relu = nn.ReLU(inplace=True)\n",
        "\n",
        "        self.layer1 = self._make_layer(block, 64, num_blocks[0], stride=1)\n",
        "        self.layer2 = self._make_layer(block, 128, num_blocks[1], stride=2)\n",
        "        self.layer3 = self._make_layer(block, 256, num_blocks[2], stride=2)\n",
        "        self.layer4 = self._make_layer(block, 512, num_blocks[3], stride=2)\n",
        "        self.avgpool = nn.AdaptiveAvgPool2d((1, 1))\n",
        "        self.fc = nn.Linear(512 * block.expansion, num_classes)\n",
        "\n",
        "        # Register hooks for the output of each major layer/block to track gradients\n",
        "        global_grad_tracker.register_hook(\"conv1_output\", self.bn1) # After initial conv+bn\n",
        "        global_grad_tracker.register_hook(\"layer1_output\", self.layer1)\n",
        "        global_grad_tracker.register_hook(\"layer2_output\", self.layer2)\n",
        "        global_grad_tracker.register_hook(\"layer3_output\", self.layer3)\n",
        "        global_grad_tracker.register_hook(\"layer4_output\", self.layer4)\n",
        "\n",
        "        self._initialize_weights()\n",
        "\n",
        "    def _make_layer(self, block, out_channels, num_blocks, stride):\n",
        "        strides = [stride] + [1] * (num_blocks - 1)\n",
        "        layers = []\n",
        "        for stride_val in strides: # Renamed stride to stride_val to avoid conflict\n",
        "            layers.append(block(self.in_channels, out_channels, stride_val))\n",
        "            self.in_channels = out_channels * block.expansion\n",
        "        return nn.Sequential(*layers)\n",
        "\n",
        "    def forward(self, x):\n",
        "        out = self.relu(self.bn1(self.conv1(x)))\n",
        "        out = self.layer1(out)\n",
        "        out = self.layer2(out)\n",
        "        out = self.layer3(out)\n",
        "        out = self.layer4(out)\n",
        "        out = self.avgpool(out)\n",
        "        out = torch.flatten(out, 1)\n",
        "        out = self.fc(out)\n",
        "        return out\n",
        "\n",
        "    def _initialize_weights(self):\n",
        "        for m in self.modules():\n",
        "            if isinstance(m, nn.Conv2d):\n",
        "                nn.init.kaiming_normal_(m.weight, mode='fan_out', nonlinearity='relu')\n",
        "            elif isinstance(m, nn.BatchNorm2d):\n",
        "                nn.init.constant_(m.weight, 1)\n",
        "                nn.init.constant_(m.bias, 0)\n",
        "            elif isinstance(m, nn.Linear):\n",
        "                nn.init.normal_(m.weight, 0, 0.01) # Changed from 0.01 to a smaller value for FC layers\n",
        "                nn.init.constant_(m.bias, 0)\n"
      ]
    },
    {
      "cell_type": "code",
      "execution_count": null,
      "metadata": {},
      "outputs": [],
      "source": [
        "# --- Model and Data Utility Functions ---\n",
        "def get_model(name, num_classes):\n",
        "    # Clear previous hooks before creating a new model to avoid conflicts\n",
        "    global_grad_tracker.clear()\n",
        "\n",
        "    if name == \"ResNet18\":\n",
        "        return ResNet(BasicBlock, [2, 2, 2, 2], num_classes)\n",
        "    elif name == \"ResNet50\":\n",
        "        return ResNet(Bottleneck, [3, 4, 6, 3], num_classes)\n",
        "    elif name == \"ResNet101\":\n",
        "        return ResNet(Bottleneck, [3, 4, 23, 3], num_classes)\n",
        "    else:\n",
        "        raise ValueError(f\"Unsupported model: {name}\")\n",
        "\n",
        "def get_dataloaders(dataset_name, root, batch_size):\n",
        "    if dataset_name == \"CIFAR10\":\n",
        "        # CIFAR-10 mean and std for normalization\n",
        "        mean = [0.4914, 0.4822, 0.4465]\n",
        "        std = [0.2023, 0.1994, 0.2010]\n",
        "\n",
        "        transform_train = transforms.Compose([\n",
        "            transforms.RandomCrop(32, padding=4),\n",
        "            transforms.RandomHorizontalFlip(),\n",
        "            transforms.ToTensor(),\n",
        "            transforms.Normalize(mean, std), # Added normalization\n",
        "        ])\n",
        "\n",
        "        transform_test = transforms.Compose([\n",
        "            transforms.ToTensor(),\n",
        "            transforms.Normalize(mean, std), # Added normalization\n",
        "        ])\n",
        "\n",
        "        train_dataset = torchvision.datasets.CIFAR10(\n",
        "            root=root, train=True, download=True, transform=transform_train\n",
        "        )\n",
        "        test_dataset = torchvision.datasets.CIFAR10(\n",
        "            root=root, train=False, download=True, transform=transform_test\n",
        "        )\n",
        "\n",
        "        train_loader = DataLoader(train_dataset, batch_size=batch_size, shuffle=True, num_workers=os.cpu_count() // 2 or 1) # Added num_workers\n",
        "        test_loader = DataLoader(test_dataset, batch_size=batch_size, shuffle=False, num_workers=os.cpu_count() // 2 or 1) # Added num_workers\n",
        "\n",
        "        return train_loader, test_loader\n",
        "    else:\n",
        "        raise ValueError(f\"Unsupported dataset: {dataset_name}\")\n",
        "\n",
        "def evaluate(model, loader, device):\n",
        "    model.eval()\n",
        "    correct = total = 0\n",
        "    with torch.no_grad():\n",
        "        for x, y in tqdm(loader, desc=\"Evaluating\", leave=False):\n",
        "            x, y = x.to(device), y.to(device)\n",
        "            outputs = model(x)\n",
        "            _, predicted = torch.max(outputs, 1)\n",
        "            correct += (predicted == y).sum().item()\n",
        "            total += y.size(0)\n",
        "    return correct / total\n",
        "\n",
        "def count_parameters(model):\n",
        "    return sum(p.numel() for p in model.parameters() if p.requires_grad)\n",
        "\n",
        "def train(model, train_loader, test_loader, device, epochs, lr, momentum, weight_decay, gamma, step_size):\n",
        "    torch.autograd.set_detect_anomaly(True)\n",
        "    criterion = nn.CrossEntropyLoss()\n",
        "    optimizer = torch.optim.SGD(model.parameters(), lr=lr, momentum=momentum, weight_decay=weight_decay)\n",
        "    # Using StepLR for learning rate scheduling\n",
        "    scheduler = torch.optim.lr_scheduler.StepLR(optimizer, step_size=step_size, gamma=gamma)\n",
        "\n",
        "    train_accs, test_accs = [], []\n",
        "    gradient_history_per_epoch = [] # Store gradient snapshots per epoch\n",
        "\n",
        "    start_time = time.time()\n",
        "\n",
        "    for epoch in range(epochs):\n",
        "        model.train()\n",
        "        pbar = tqdm(train_loader, desc=f\"Epoch {epoch+1}/{epochs}\")\n",
        "        for batch_idx, (x, y) in enumerate(pbar):\n",
        "            x, y = x.to(device), y.to(device)\n",
        "            outputs = model(x)\n",
        "            loss = criterion(outputs, y)\n",
        "\n",
        "            optimizer.zero_grad()\n",
        "            loss.backward()\n",
        "            optimizer.step()\n",
        "\n",
        "            pbar.set_postfix({'loss': f'{loss.item():.4f}', 'lr': f'{optimizer.param_groups[0][\"lr\"]:.6f}'})\n",
        "\n",
        "        # Capture gradients after an epoch (or a few batches)\n",
        "        # For simplicity, we capture gradients after the entire training epoch\n",
        "        # You might want to capture them more frequently (e.g., every N batches) for detailed analysis\n",
        "        current_gradients = global_grad_tracker.gradients.copy()\n",
        "        gradient_history_per_epoch.append(current_gradients)\n",
        "\n",
        "        train_acc = evaluate(model, train_loader, device)\n",
        "        test_acc = evaluate(model, test_loader, device)\n",
        "        train_accs.append(train_acc)\n",
        "        test_accs.append(test_acc)\n",
        "\n",
        "        print(f\"Epoch {epoch+1}/{epochs} | Train Acc: {train_acc:.4f} | Test Acc: {test_acc:.4f}\")\n",
        "        scheduler.step() # Update learning rate\n",
        "\n",
        "    training_time = time.time() - start_time\n",
        "    return train_accs, test_accs, training_time, gradient_history_per_epoch\n",
        "\n",
        "def plot_results(results, save_path, epochs_trained):\n",
        "    os.makedirs(os.path.dirname(save_path), exist_ok=True)\n",
        "\n",
        "    fig, axes = plt.subplots(2, 2, figsize=(18, 12)) # Adjusted figure size\n",
        "\n",
        "    # Plot accuracy comparison\n",
        "    ax1 = axes[0, 0]\n",
        "    for label, accs in results['test_accuracies'].items(): # Changed to test_accuracies directly\n",
        "        ax1.plot(range(1, epochs_trained[label] + 1), accs, label=label) # Use actual epochs trained\n",
        "    ax1.set_xlabel(\"Epoch\")\n",
        "    ax1.set_ylabel(\"Test Accuracy\")\n",
        "    ax1.set_title(\"Test Accuracy Comparison Over Epochs\")\n",
        "    ax1.legend()\n",
        "    ax1.grid(True)\n",
        "\n",
        "    # Plot parameter count comparison\n",
        "    ax2 = axes[0, 1]\n",
        "    models = list(results['parameters'].keys())\n",
        "    params = list(results['parameters'].values())\n",
        "    ax2.bar(models, params, color=['skyblue', 'lightcoral', 'lightgreen'])\n",
        "    ax2.set_xlabel(\"Model\")\n",
        "    ax2.set_ylabel(\"Number of Parameters\")\n",
        "    ax2.set_title(\"Parameter Count Comparison\")\n",
        "    ax2.tick_params(axis='x', rotation=45)\n",
        "\n",
        "    # Plot training time comparison\n",
        "    ax3 = axes[1, 0]\n",
        "    times = list(results['training_times'].values())\n",
        "    ax3.bar(models, times, color=['skyblue', 'lightcoral', 'lightgreen'])\n",
        "    ax3.set_xlabel(\"Model\")\n",
        "    ax3.set_ylabel(\"Training Time (seconds)\")\n",
        "    ax3.set_title(\"Training Time Comparison\")\n",
        "    ax3.tick_params(axis='x', rotation=45)\n",
        "\n",
        "    # Plot gradient flow (average over epochs)\n",
        "    ax4 = axes[1, 1]\n",
        "    # Filter out empty gradient lists\n",
        "    filtered_gradient_flows = {k: v for k, v in results['gradient_flows'].items() if v}\n",
        "\n",
        "    if filtered_gradient_flows:\n",
        "        for model_name, gradients_per_epoch in filtered_gradient_flows.items():\n",
        "            if not gradients_per_epoch: # Skip if no gradients were recorded\n",
        "                continue\n",
        "\n",
        "            # Average gradients over all epochs for each layer\n",
        "            # Ensure all dictionaries have the same keys (layers) before averaging\n",
        "            all_layer_names = sorted(list(set(key for grad_dict in gradients_per_epoch for key in grad_dict.keys())))\n",
        "\n",
        "            avg_gradients_by_layer = {name: [] for name in all_layer_names}\n",
        "\n",
        "            for grad_dict in gradients_per_epoch:\n",
        "                for layer_name in all_layer_names:\n",
        "                    avg_gradients_by_layer[layer_name].append(grad_dict.get(layer_name, 0.0)) # Use 0.0 if key missing\n",
        "\n",
        "            # Take the mean across epochs for each layer\n",
        "            final_avg_gradients = [np.mean(avg_gradients_by_layer[name]) for name in all_layer_names]\n",
        "\n",
        "            ax4.plot(range(len(all_layer_names)), final_avg_gradients, label=model_name, marker='o', linestyle='--')\n",
        "\n",
        "        ax4.set_xlabel(\"Layer Index (Approx. Depth)\")\n",
        "        ax4.set_ylabel(\"Average Gradient Magnitude\")\n",
        "        ax4.set_title(\"Average Gradient Magnitude Across Network Depth\")\n",
        "        ax4.set_xticks(range(len(all_layer_names)))\n",
        "        ax4.set_xticklabels(all_layer_names, rotation=90, fontsize=8) # Rotate labels for readability\n",
        "        ax4.legend()\n",
        "        ax4.grid(True)\n",
        "    else:\n",
        "        ax4.text(0.5, 0.5, \"No gradient data to plot.\", horizontalalignment='center', verticalalignment='center', transform=ax4.transAxes)\n",
        "\n",
        "\n",
        "    plt.tight_layout()\n",
        "    plt.savefig(save_path)\n",
        "    plt.show()\n",
        "\n"
      ]
    },
    {
      "cell_type": "code",
      "execution_count": null,
      "metadata": {
        "colab": {
          "base_uri": "https://localhost:8080/",
          "height": 1000
        },
        "id": "Ig1_HC-_cV3c",
        "outputId": "57068546-cbad-443f-e340-04f33ccabfee"
      },
      "outputs": [
        {
          "name": "stdout",
          "output_type": "stream",
          "text": [
            "\n",
            "Running: ResNet18\n"
          ]
        },
        {
          "name": "stderr",
          "output_type": "stream",
          "text": [
            "100%|██████████| 170M/170M [00:02<00:00, 62.9MB/s]\n"
          ]
        },
        {
          "name": "stdout",
          "output_type": "stream",
          "text": [
            "Number of parameters: 11,173,962\n"
          ]
        },
        {
          "name": "stderr",
          "output_type": "stream",
          "text": [
            "Epoch 1/100:   0%|          | 0/391 [00:00<?, ?it/s]/usr/local/lib/python3.11/dist-packages/torch/nn/modules/module.py:1830: FutureWarning: Using a non-full backward hook when the forward contains multiple autograd Nodes is deprecated and will be removed in future versions. This hook will be missing some grad_input. Please use register_full_backward_hook to get the documented behavior.\n",
            "  self._maybe_warn_non_full_backward_hook(args, result, grad_fn)\n",
            "Epoch 1/100: 100%|██████████| 391/391 [00:23<00:00, 16.56it/s, loss=1.7813, lr=0.100000]\n"
          ]
        },
        {
          "name": "stdout",
          "output_type": "stream",
          "text": [
            "Epoch 1/100 | Train Acc: 0.3165 | Test Acc: 0.3279\n"
          ]
        },
        {
          "name": "stderr",
          "output_type": "stream",
          "text": [
            "Epoch 2/100: 100%|██████████| 391/391 [00:21<00:00, 18.00it/s, loss=1.6133, lr=0.100000]\n"
          ]
        },
        {
          "name": "stdout",
          "output_type": "stream",
          "text": [
            "Epoch 2/100 | Train Acc: 0.4267 | Test Acc: 0.4463\n"
          ]
        },
        {
          "name": "stderr",
          "output_type": "stream",
          "text": [
            "Epoch 3/100: 100%|██████████| 391/391 [00:21<00:00, 17.90it/s, loss=1.1505, lr=0.100000]\n"
          ]
        },
        {
          "name": "stdout",
          "output_type": "stream",
          "text": [
            "Epoch 3/100 | Train Acc: 0.5288 | Test Acc: 0.5296\n"
          ]
        },
        {
          "name": "stderr",
          "output_type": "stream",
          "text": [
            "Epoch 4/100: 100%|██████████| 391/391 [00:21<00:00, 18.02it/s, loss=0.9274, lr=0.100000]\n"
          ]
        },
        {
          "name": "stdout",
          "output_type": "stream",
          "text": [
            "Epoch 4/100 | Train Acc: 0.6413 | Test Acc: 0.6558\n"
          ]
        },
        {
          "name": "stderr",
          "output_type": "stream",
          "text": [
            "Epoch 5/100: 100%|██████████| 391/391 [00:21<00:00, 18.15it/s, loss=0.6710, lr=0.100000]\n"
          ]
        },
        {
          "name": "stdout",
          "output_type": "stream",
          "text": [
            "Epoch 5/100 | Train Acc: 0.6991 | Test Acc: 0.6968\n"
          ]
        },
        {
          "name": "stderr",
          "output_type": "stream",
          "text": [
            "Epoch 6/100: 100%|██████████| 391/391 [00:21<00:00, 18.22it/s, loss=0.9769, lr=0.100000]\n"
          ]
        },
        {
          "name": "stdout",
          "output_type": "stream",
          "text": [
            "Epoch 6/100 | Train Acc: 0.7281 | Test Acc: 0.7237\n"
          ]
        },
        {
          "name": "stderr",
          "output_type": "stream",
          "text": [
            "Epoch 7/100: 100%|██████████| 391/391 [00:21<00:00, 18.17it/s, loss=0.5395, lr=0.100000]\n"
          ]
        },
        {
          "name": "stdout",
          "output_type": "stream",
          "text": [
            "Epoch 7/100 | Train Acc: 0.7641 | Test Acc: 0.7626\n"
          ]
        },
        {
          "name": "stderr",
          "output_type": "stream",
          "text": [
            "Epoch 8/100: 100%|██████████| 391/391 [00:21<00:00, 17.92it/s, loss=0.5588, lr=0.100000]\n"
          ]
        },
        {
          "name": "stdout",
          "output_type": "stream",
          "text": [
            "Epoch 8/100 | Train Acc: 0.7469 | Test Acc: 0.7389\n"
          ]
        },
        {
          "name": "stderr",
          "output_type": "stream",
          "text": [
            "Epoch 9/100: 100%|██████████| 391/391 [00:21<00:00, 17.90it/s, loss=0.5088, lr=0.100000]\n"
          ]
        },
        {
          "name": "stdout",
          "output_type": "stream",
          "text": [
            "Epoch 9/100 | Train Acc: 0.7914 | Test Acc: 0.7739\n"
          ]
        },
        {
          "name": "stderr",
          "output_type": "stream",
          "text": [
            "Epoch 10/100: 100%|██████████| 391/391 [00:21<00:00, 18.11it/s, loss=0.4089, lr=0.100000]\n"
          ]
        },
        {
          "name": "stdout",
          "output_type": "stream",
          "text": [
            "Epoch 10/100 | Train Acc: 0.6530 | Test Acc: 0.6355\n"
          ]
        },
        {
          "name": "stderr",
          "output_type": "stream",
          "text": [
            "Epoch 11/100: 100%|██████████| 391/391 [00:21<00:00, 18.10it/s, loss=0.4480, lr=0.100000]\n"
          ]
        },
        {
          "name": "stdout",
          "output_type": "stream",
          "text": [
            "Epoch 11/100 | Train Acc: 0.7848 | Test Acc: 0.7844\n"
          ]
        },
        {
          "name": "stderr",
          "output_type": "stream",
          "text": [
            "Epoch 12/100: 100%|██████████| 391/391 [00:21<00:00, 17.97it/s, loss=0.6507, lr=0.100000]\n"
          ]
        },
        {
          "name": "stdout",
          "output_type": "stream",
          "text": [
            "Epoch 12/100 | Train Acc: 0.7326 | Test Acc: 0.7207\n"
          ]
        },
        {
          "name": "stderr",
          "output_type": "stream",
          "text": [
            "Epoch 13/100: 100%|██████████| 391/391 [00:21<00:00, 18.12it/s, loss=0.3733, lr=0.100000]\n"
          ]
        },
        {
          "name": "stdout",
          "output_type": "stream",
          "text": [
            "Epoch 13/100 | Train Acc: 0.7986 | Test Acc: 0.7818\n"
          ]
        },
        {
          "name": "stderr",
          "output_type": "stream",
          "text": [
            "Epoch 14/100: 100%|██████████| 391/391 [00:21<00:00, 17.89it/s, loss=0.5230, lr=0.100000]\n"
          ]
        },
        {
          "name": "stdout",
          "output_type": "stream",
          "text": [
            "Epoch 14/100 | Train Acc: 0.8288 | Test Acc: 0.8147\n"
          ]
        },
        {
          "name": "stderr",
          "output_type": "stream",
          "text": [
            "Epoch 15/100: 100%|██████████| 391/391 [00:21<00:00, 17.90it/s, loss=0.3967, lr=0.100000]\n"
          ]
        },
        {
          "name": "stdout",
          "output_type": "stream",
          "text": [
            "Epoch 15/100 | Train Acc: 0.8311 | Test Acc: 0.8170\n"
          ]
        },
        {
          "name": "stderr",
          "output_type": "stream",
          "text": [
            "Epoch 16/100: 100%|██████████| 391/391 [00:21<00:00, 17.79it/s, loss=0.4578, lr=0.100000]\n"
          ]
        },
        {
          "name": "stdout",
          "output_type": "stream",
          "text": [
            "Epoch 16/100 | Train Acc: 0.8272 | Test Acc: 0.8116\n"
          ]
        },
        {
          "name": "stderr",
          "output_type": "stream",
          "text": [
            "Epoch 17/100: 100%|██████████| 391/391 [00:21<00:00, 17.98it/s, loss=0.5453, lr=0.100000]\n"
          ]
        },
        {
          "name": "stdout",
          "output_type": "stream",
          "text": [
            "Epoch 17/100 | Train Acc: 0.8234 | Test Acc: 0.8152\n"
          ]
        },
        {
          "name": "stderr",
          "output_type": "stream",
          "text": [
            "Epoch 18/100: 100%|██████████| 391/391 [00:21<00:00, 18.17it/s, loss=0.4419, lr=0.100000]\n"
          ]
        },
        {
          "name": "stdout",
          "output_type": "stream",
          "text": [
            "Epoch 18/100 | Train Acc: 0.8376 | Test Acc: 0.8258\n"
          ]
        },
        {
          "name": "stderr",
          "output_type": "stream",
          "text": [
            "Epoch 19/100: 100%|██████████| 391/391 [00:21<00:00, 18.08it/s, loss=0.6605, lr=0.100000]\n"
          ]
        },
        {
          "name": "stdout",
          "output_type": "stream",
          "text": [
            "Epoch 19/100 | Train Acc: 0.8606 | Test Acc: 0.8429\n"
          ]
        },
        {
          "name": "stderr",
          "output_type": "stream",
          "text": [
            "Epoch 20/100: 100%|██████████| 391/391 [00:21<00:00, 17.90it/s, loss=0.4701, lr=0.100000]\n"
          ]
        },
        {
          "name": "stdout",
          "output_type": "stream",
          "text": [
            "Epoch 20/100 | Train Acc: 0.8078 | Test Acc: 0.7876\n"
          ]
        },
        {
          "name": "stderr",
          "output_type": "stream",
          "text": [
            "Epoch 21/100: 100%|██████████| 391/391 [00:21<00:00, 18.06it/s, loss=0.4512, lr=0.100000]\n"
          ]
        },
        {
          "name": "stdout",
          "output_type": "stream",
          "text": [
            "Epoch 21/100 | Train Acc: 0.8349 | Test Acc: 0.8130\n"
          ]
        },
        {
          "name": "stderr",
          "output_type": "stream",
          "text": [
            "Epoch 22/100: 100%|██████████| 391/391 [00:21<00:00, 18.07it/s, loss=0.2811, lr=0.100000]\n"
          ]
        },
        {
          "name": "stdout",
          "output_type": "stream",
          "text": [
            "Epoch 22/100 | Train Acc: 0.8071 | Test Acc: 0.7938\n"
          ]
        },
        {
          "name": "stderr",
          "output_type": "stream",
          "text": [
            "Epoch 23/100: 100%|██████████| 391/391 [00:21<00:00, 17.78it/s, loss=0.2452, lr=0.100000]\n"
          ]
        },
        {
          "name": "stdout",
          "output_type": "stream",
          "text": [
            "Epoch 23/100 | Train Acc: 0.8399 | Test Acc: 0.8213\n"
          ]
        },
        {
          "name": "stderr",
          "output_type": "stream",
          "text": [
            "Epoch 24/100: 100%|██████████| 391/391 [00:21<00:00, 17.79it/s, loss=0.5998, lr=0.100000]\n"
          ]
        },
        {
          "name": "stdout",
          "output_type": "stream",
          "text": [
            "Epoch 24/100 | Train Acc: 0.8472 | Test Acc: 0.8257\n"
          ]
        },
        {
          "name": "stderr",
          "output_type": "stream",
          "text": [
            "Epoch 25/100: 100%|██████████| 391/391 [00:21<00:00, 18.04it/s, loss=0.4494, lr=0.100000]\n"
          ]
        },
        {
          "name": "stdout",
          "output_type": "stream",
          "text": [
            "Epoch 25/100 | Train Acc: 0.8336 | Test Acc: 0.8243\n"
          ]
        },
        {
          "name": "stderr",
          "output_type": "stream",
          "text": [
            "Epoch 26/100: 100%|██████████| 391/391 [00:21<00:00, 18.18it/s, loss=0.4059, lr=0.100000]\n"
          ]
        },
        {
          "name": "stdout",
          "output_type": "stream",
          "text": [
            "Epoch 26/100 | Train Acc: 0.8381 | Test Acc: 0.8135\n"
          ]
        },
        {
          "name": "stderr",
          "output_type": "stream",
          "text": [
            "Epoch 27/100: 100%|██████████| 391/391 [00:21<00:00, 17.98it/s, loss=0.3541, lr=0.100000]\n"
          ]
        },
        {
          "name": "stdout",
          "output_type": "stream",
          "text": [
            "Epoch 27/100 | Train Acc: 0.8219 | Test Acc: 0.7994\n"
          ]
        },
        {
          "name": "stderr",
          "output_type": "stream",
          "text": [
            "Epoch 28/100: 100%|██████████| 391/391 [00:21<00:00, 18.12it/s, loss=0.4692, lr=0.100000]\n"
          ]
        },
        {
          "name": "stdout",
          "output_type": "stream",
          "text": [
            "Epoch 28/100 | Train Acc: 0.8693 | Test Acc: 0.8476\n"
          ]
        },
        {
          "name": "stderr",
          "output_type": "stream",
          "text": [
            "Epoch 29/100: 100%|██████████| 391/391 [00:21<00:00, 17.79it/s, loss=0.4318, lr=0.100000]\n"
          ]
        },
        {
          "name": "stdout",
          "output_type": "stream",
          "text": [
            "Epoch 29/100 | Train Acc: 0.8357 | Test Acc: 0.8120\n"
          ]
        },
        {
          "name": "stderr",
          "output_type": "stream",
          "text": [
            "Epoch 30/100: 100%|██████████| 391/391 [00:21<00:00, 18.10it/s, loss=0.3969, lr=0.100000]\n"
          ]
        },
        {
          "name": "stdout",
          "output_type": "stream",
          "text": [
            "Epoch 30/100 | Train Acc: 0.8680 | Test Acc: 0.8524\n"
          ]
        },
        {
          "name": "stderr",
          "output_type": "stream",
          "text": [
            "Epoch 31/100: 100%|██████████| 391/391 [00:21<00:00, 18.07it/s, loss=0.3423, lr=0.010000]\n"
          ]
        },
        {
          "name": "stdout",
          "output_type": "stream",
          "text": [
            "Epoch 31/100 | Train Acc: 0.9503 | Test Acc: 0.9214\n"
          ]
        },
        {
          "name": "stderr",
          "output_type": "stream",
          "text": [
            "Epoch 32/100: 100%|██████████| 391/391 [00:21<00:00, 17.89it/s, loss=0.0798, lr=0.010000]\n"
          ]
        },
        {
          "name": "stdout",
          "output_type": "stream",
          "text": [
            "Epoch 32/100 | Train Acc: 0.9605 | Test Acc: 0.9236\n"
          ]
        },
        {
          "name": "stderr",
          "output_type": "stream",
          "text": [
            "Epoch 33/100: 100%|██████████| 391/391 [00:21<00:00, 18.01it/s, loss=0.0731, lr=0.010000]\n"
          ]
        },
        {
          "name": "stdout",
          "output_type": "stream",
          "text": [
            "Epoch 33/100 | Train Acc: 0.9653 | Test Acc: 0.9282\n"
          ]
        },
        {
          "name": "stderr",
          "output_type": "stream",
          "text": [
            "Epoch 34/100: 100%|██████████| 391/391 [00:21<00:00, 17.93it/s, loss=0.0968, lr=0.010000]\n"
          ]
        },
        {
          "name": "stdout",
          "output_type": "stream",
          "text": [
            "Epoch 34/100 | Train Acc: 0.9685 | Test Acc: 0.9291\n"
          ]
        },
        {
          "name": "stderr",
          "output_type": "stream",
          "text": [
            "Epoch 35/100: 100%|██████████| 391/391 [00:21<00:00, 18.08it/s, loss=0.0796, lr=0.010000]\n"
          ]
        },
        {
          "name": "stdout",
          "output_type": "stream",
          "text": [
            "Epoch 35/100 | Train Acc: 0.9723 | Test Acc: 0.9304\n"
          ]
        },
        {
          "name": "stderr",
          "output_type": "stream",
          "text": [
            "Epoch 36/100: 100%|██████████| 391/391 [00:21<00:00, 17.97it/s, loss=0.0375, lr=0.010000]\n"
          ]
        },
        {
          "name": "stdout",
          "output_type": "stream",
          "text": [
            "Epoch 36/100 | Train Acc: 0.9756 | Test Acc: 0.9285\n"
          ]
        },
        {
          "name": "stderr",
          "output_type": "stream",
          "text": [
            "Epoch 37/100: 100%|██████████| 391/391 [00:21<00:00, 18.06it/s, loss=0.1226, lr=0.010000]\n"
          ]
        },
        {
          "name": "stdout",
          "output_type": "stream",
          "text": [
            "Epoch 37/100 | Train Acc: 0.9772 | Test Acc: 0.9325\n"
          ]
        },
        {
          "name": "stderr",
          "output_type": "stream",
          "text": [
            "Epoch 38/100: 100%|██████████| 391/391 [00:21<00:00, 18.10it/s, loss=0.0834, lr=0.010000]\n"
          ]
        },
        {
          "name": "stdout",
          "output_type": "stream",
          "text": [
            "Epoch 38/100 | Train Acc: 0.9821 | Test Acc: 0.9326\n"
          ]
        },
        {
          "name": "stderr",
          "output_type": "stream",
          "text": [
            "Epoch 39/100: 100%|██████████| 391/391 [00:21<00:00, 17.94it/s, loss=0.1067, lr=0.010000]\n"
          ]
        },
        {
          "name": "stdout",
          "output_type": "stream",
          "text": [
            "Epoch 39/100 | Train Acc: 0.9806 | Test Acc: 0.9287\n"
          ]
        },
        {
          "name": "stderr",
          "output_type": "stream",
          "text": [
            "Epoch 40/100: 100%|██████████| 391/391 [00:22<00:00, 17.50it/s, loss=0.1123, lr=0.010000]\n"
          ]
        },
        {
          "name": "stdout",
          "output_type": "stream",
          "text": [
            "Epoch 40/100 | Train Acc: 0.9820 | Test Acc: 0.9313\n"
          ]
        },
        {
          "name": "stderr",
          "output_type": "stream",
          "text": [
            "Epoch 41/100: 100%|██████████| 391/391 [00:21<00:00, 18.01it/s, loss=0.0141, lr=0.010000]\n"
          ]
        },
        {
          "name": "stdout",
          "output_type": "stream",
          "text": [
            "Epoch 41/100 | Train Acc: 0.9827 | Test Acc: 0.9295\n"
          ]
        },
        {
          "name": "stderr",
          "output_type": "stream",
          "text": [
            "Epoch 42/100: 100%|██████████| 391/391 [00:21<00:00, 17.93it/s, loss=0.0226, lr=0.010000]\n"
          ]
        },
        {
          "name": "stdout",
          "output_type": "stream",
          "text": [
            "Epoch 42/100 | Train Acc: 0.9849 | Test Acc: 0.9295\n"
          ]
        },
        {
          "name": "stderr",
          "output_type": "stream",
          "text": [
            "Epoch 43/100: 100%|██████████| 391/391 [00:21<00:00, 17.96it/s, loss=0.1559, lr=0.010000]\n"
          ]
        },
        {
          "name": "stdout",
          "output_type": "stream",
          "text": [
            "Epoch 43/100 | Train Acc: 0.9838 | Test Acc: 0.9299\n"
          ]
        },
        {
          "name": "stderr",
          "output_type": "stream",
          "text": [
            "Epoch 44/100: 100%|██████████| 391/391 [00:21<00:00, 17.80it/s, loss=0.0176, lr=0.010000]\n"
          ]
        },
        {
          "name": "stdout",
          "output_type": "stream",
          "text": [
            "Epoch 44/100 | Train Acc: 0.9862 | Test Acc: 0.9292\n"
          ]
        },
        {
          "name": "stderr",
          "output_type": "stream",
          "text": [
            "Epoch 45/100: 100%|██████████| 391/391 [00:21<00:00, 17.99it/s, loss=0.0380, lr=0.010000]\n"
          ]
        },
        {
          "name": "stdout",
          "output_type": "stream",
          "text": [
            "Epoch 45/100 | Train Acc: 0.9851 | Test Acc: 0.9283\n"
          ]
        },
        {
          "name": "stderr",
          "output_type": "stream",
          "text": [
            "Epoch 46/100: 100%|██████████| 391/391 [00:21<00:00, 17.96it/s, loss=0.1004, lr=0.010000]\n"
          ]
        },
        {
          "name": "stdout",
          "output_type": "stream",
          "text": [
            "Epoch 46/100 | Train Acc: 0.9858 | Test Acc: 0.9310\n"
          ]
        },
        {
          "name": "stderr",
          "output_type": "stream",
          "text": [
            "Epoch 47/100: 100%|██████████| 391/391 [00:21<00:00, 17.79it/s, loss=0.0840, lr=0.010000]\n"
          ]
        },
        {
          "name": "stdout",
          "output_type": "stream",
          "text": [
            "Epoch 47/100 | Train Acc: 0.9832 | Test Acc: 0.9277\n"
          ]
        },
        {
          "name": "stderr",
          "output_type": "stream",
          "text": [
            "Epoch 48/100: 100%|██████████| 391/391 [00:21<00:00, 18.07it/s, loss=0.0881, lr=0.010000]\n"
          ]
        },
        {
          "name": "stdout",
          "output_type": "stream",
          "text": [
            "Epoch 48/100 | Train Acc: 0.9891 | Test Acc: 0.9294\n"
          ]
        },
        {
          "name": "stderr",
          "output_type": "stream",
          "text": [
            "Epoch 49/100: 100%|██████████| 391/391 [00:21<00:00, 17.83it/s, loss=0.0705, lr=0.010000]\n"
          ]
        },
        {
          "name": "stdout",
          "output_type": "stream",
          "text": [
            "Epoch 49/100 | Train Acc: 0.9877 | Test Acc: 0.9289\n"
          ]
        },
        {
          "name": "stderr",
          "output_type": "stream",
          "text": [
            "Epoch 50/100: 100%|██████████| 391/391 [00:21<00:00, 18.13it/s, loss=0.0378, lr=0.010000]\n"
          ]
        },
        {
          "name": "stdout",
          "output_type": "stream",
          "text": [
            "Epoch 50/100 | Train Acc: 0.9886 | Test Acc: 0.9288\n"
          ]
        },
        {
          "name": "stderr",
          "output_type": "stream",
          "text": [
            "Epoch 51/100: 100%|██████████| 391/391 [00:21<00:00, 18.13it/s, loss=0.0910, lr=0.010000]\n"
          ]
        },
        {
          "name": "stdout",
          "output_type": "stream",
          "text": [
            "Epoch 51/100 | Train Acc: 0.9886 | Test Acc: 0.9325\n"
          ]
        },
        {
          "name": "stderr",
          "output_type": "stream",
          "text": [
            "Epoch 52/100: 100%|██████████| 391/391 [00:21<00:00, 17.79it/s, loss=0.0874, lr=0.010000]\n"
          ]
        },
        {
          "name": "stdout",
          "output_type": "stream",
          "text": [
            "Epoch 52/100 | Train Acc: 0.9793 | Test Acc: 0.9184\n"
          ]
        },
        {
          "name": "stderr",
          "output_type": "stream",
          "text": [
            "Epoch 53/100: 100%|██████████| 391/391 [00:21<00:00, 17.90it/s, loss=0.0225, lr=0.010000]\n"
          ]
        },
        {
          "name": "stdout",
          "output_type": "stream",
          "text": [
            "Epoch 53/100 | Train Acc: 0.9852 | Test Acc: 0.9249\n"
          ]
        },
        {
          "name": "stderr",
          "output_type": "stream",
          "text": [
            "Epoch 54/100: 100%|██████████| 391/391 [00:21<00:00, 17.83it/s, loss=0.0344, lr=0.010000]\n"
          ]
        },
        {
          "name": "stdout",
          "output_type": "stream",
          "text": [
            "Epoch 54/100 | Train Acc: 0.9857 | Test Acc: 0.9236\n"
          ]
        },
        {
          "name": "stderr",
          "output_type": "stream",
          "text": [
            "Epoch 55/100: 100%|██████████| 391/391 [00:21<00:00, 18.00it/s, loss=0.0961, lr=0.010000]\n"
          ]
        },
        {
          "name": "stdout",
          "output_type": "stream",
          "text": [
            "Epoch 55/100 | Train Acc: 0.9831 | Test Acc: 0.9213\n"
          ]
        },
        {
          "name": "stderr",
          "output_type": "stream",
          "text": [
            "Epoch 56/100: 100%|██████████| 391/391 [00:21<00:00, 17.80it/s, loss=0.0777, lr=0.010000]\n"
          ]
        },
        {
          "name": "stdout",
          "output_type": "stream",
          "text": [
            "Epoch 56/100 | Train Acc: 0.9881 | Test Acc: 0.9305\n"
          ]
        },
        {
          "name": "stderr",
          "output_type": "stream",
          "text": [
            "Epoch 57/100: 100%|██████████| 391/391 [00:21<00:00, 17.88it/s, loss=0.0680, lr=0.010000]\n"
          ]
        },
        {
          "name": "stdout",
          "output_type": "stream",
          "text": [
            "Epoch 57/100 | Train Acc: 0.9876 | Test Acc: 0.9256\n"
          ]
        },
        {
          "name": "stderr",
          "output_type": "stream",
          "text": [
            "Epoch 58/100: 100%|██████████| 391/391 [00:21<00:00, 18.02it/s, loss=0.0718, lr=0.010000]\n"
          ]
        },
        {
          "name": "stdout",
          "output_type": "stream",
          "text": [
            "Epoch 58/100 | Train Acc: 0.9870 | Test Acc: 0.9222\n"
          ]
        },
        {
          "name": "stderr",
          "output_type": "stream",
          "text": [
            "Epoch 59/100: 100%|██████████| 391/391 [00:21<00:00, 17.96it/s, loss=0.0663, lr=0.010000]\n"
          ]
        },
        {
          "name": "stdout",
          "output_type": "stream",
          "text": [
            "Epoch 59/100 | Train Acc: 0.9858 | Test Acc: 0.9235\n"
          ]
        },
        {
          "name": "stderr",
          "output_type": "stream",
          "text": [
            "Epoch 60/100: 100%|██████████| 391/391 [00:21<00:00, 17.89it/s, loss=0.0618, lr=0.010000]\n"
          ]
        },
        {
          "name": "stdout",
          "output_type": "stream",
          "text": [
            "Epoch 60/100 | Train Acc: 0.9866 | Test Acc: 0.9264\n"
          ]
        },
        {
          "name": "stderr",
          "output_type": "stream",
          "text": [
            "Epoch 61/100: 100%|██████████| 391/391 [00:22<00:00, 17.69it/s, loss=0.0128, lr=0.001000]\n"
          ]
        },
        {
          "name": "stdout",
          "output_type": "stream",
          "text": [
            "Epoch 61/100 | Train Acc: 0.9972 | Test Acc: 0.9386\n"
          ]
        },
        {
          "name": "stderr",
          "output_type": "stream",
          "text": [
            "Epoch 62/100: 100%|██████████| 391/391 [00:21<00:00, 17.99it/s, loss=0.0109, lr=0.001000]\n"
          ]
        },
        {
          "name": "stdout",
          "output_type": "stream",
          "text": [
            "Epoch 62/100 | Train Acc: 0.9978 | Test Acc: 0.9393\n"
          ]
        },
        {
          "name": "stderr",
          "output_type": "stream",
          "text": [
            "Epoch 63/100: 100%|██████████| 391/391 [00:21<00:00, 17.85it/s, loss=0.0271, lr=0.001000]\n"
          ]
        },
        {
          "name": "stdout",
          "output_type": "stream",
          "text": [
            "Epoch 63/100 | Train Acc: 0.9987 | Test Acc: 0.9401\n"
          ]
        },
        {
          "name": "stderr",
          "output_type": "stream",
          "text": [
            "Epoch 64/100: 100%|██████████| 391/391 [00:21<00:00, 17.79it/s, loss=0.0123, lr=0.001000]\n"
          ]
        },
        {
          "name": "stdout",
          "output_type": "stream",
          "text": [
            "Epoch 64/100 | Train Acc: 0.9988 | Test Acc: 0.9414\n"
          ]
        },
        {
          "name": "stderr",
          "output_type": "stream",
          "text": [
            "Epoch 65/100: 100%|██████████| 391/391 [00:21<00:00, 17.80it/s, loss=0.0081, lr=0.001000]\n"
          ]
        },
        {
          "name": "stdout",
          "output_type": "stream",
          "text": [
            "Epoch 65/100 | Train Acc: 0.9990 | Test Acc: 0.9411\n"
          ]
        },
        {
          "name": "stderr",
          "output_type": "stream",
          "text": [
            "Epoch 66/100: 100%|██████████| 391/391 [00:22<00:00, 17.67it/s, loss=0.0051, lr=0.001000]\n"
          ]
        },
        {
          "name": "stdout",
          "output_type": "stream",
          "text": [
            "Epoch 66/100 | Train Acc: 0.9993 | Test Acc: 0.9417\n"
          ]
        },
        {
          "name": "stderr",
          "output_type": "stream",
          "text": [
            "Epoch 67/100: 100%|██████████| 391/391 [00:22<00:00, 17.44it/s, loss=0.0247, lr=0.001000]\n"
          ]
        },
        {
          "name": "stdout",
          "output_type": "stream",
          "text": [
            "Epoch 67/100 | Train Acc: 0.9994 | Test Acc: 0.9421\n"
          ]
        },
        {
          "name": "stderr",
          "output_type": "stream",
          "text": [
            "Epoch 68/100: 100%|██████████| 391/391 [00:22<00:00, 17.65it/s, loss=0.0053, lr=0.001000]\n"
          ]
        },
        {
          "name": "stdout",
          "output_type": "stream",
          "text": [
            "Epoch 68/100 | Train Acc: 0.9995 | Test Acc: 0.9424\n"
          ]
        },
        {
          "name": "stderr",
          "output_type": "stream",
          "text": [
            "Epoch 69/100: 100%|██████████| 391/391 [00:22<00:00, 17.68it/s, loss=0.0094, lr=0.001000]\n"
          ]
        },
        {
          "name": "stdout",
          "output_type": "stream",
          "text": [
            "Epoch 69/100 | Train Acc: 0.9992 | Test Acc: 0.9422\n"
          ]
        },
        {
          "name": "stderr",
          "output_type": "stream",
          "text": [
            "Epoch 70/100: 100%|██████████| 391/391 [00:22<00:00, 17.55it/s, loss=0.0034, lr=0.001000]\n"
          ]
        },
        {
          "name": "stdout",
          "output_type": "stream",
          "text": [
            "Epoch 70/100 | Train Acc: 0.9993 | Test Acc: 0.9406\n"
          ]
        },
        {
          "name": "stderr",
          "output_type": "stream",
          "text": [
            "Epoch 71/100: 100%|██████████| 391/391 [00:22<00:00, 17.73it/s, loss=0.0025, lr=0.001000]\n"
          ]
        },
        {
          "name": "stdout",
          "output_type": "stream",
          "text": [
            "Epoch 71/100 | Train Acc: 0.9995 | Test Acc: 0.9418\n"
          ]
        },
        {
          "name": "stderr",
          "output_type": "stream",
          "text": [
            "Epoch 72/100: 100%|██████████| 391/391 [00:22<00:00, 17.76it/s, loss=0.0037, lr=0.001000]\n"
          ]
        },
        {
          "name": "stdout",
          "output_type": "stream",
          "text": [
            "Epoch 72/100 | Train Acc: 0.9994 | Test Acc: 0.9426\n"
          ]
        },
        {
          "name": "stderr",
          "output_type": "stream",
          "text": [
            "Epoch 73/100: 100%|██████████| 391/391 [00:22<00:00, 17.50it/s, loss=0.0059, lr=0.001000]\n"
          ]
        },
        {
          "name": "stdout",
          "output_type": "stream",
          "text": [
            "Epoch 73/100 | Train Acc: 0.9996 | Test Acc: 0.9421\n"
          ]
        },
        {
          "name": "stderr",
          "output_type": "stream",
          "text": [
            "Epoch 74/100: 100%|██████████| 391/391 [00:22<00:00, 17.66it/s, loss=0.0152, lr=0.001000]\n"
          ]
        },
        {
          "name": "stdout",
          "output_type": "stream",
          "text": [
            "Epoch 74/100 | Train Acc: 0.9996 | Test Acc: 0.9431\n"
          ]
        },
        {
          "name": "stderr",
          "output_type": "stream",
          "text": [
            "Epoch 75/100: 100%|██████████| 391/391 [00:22<00:00, 17.52it/s, loss=0.0036, lr=0.001000]\n"
          ]
        },
        {
          "name": "stdout",
          "output_type": "stream",
          "text": [
            "Epoch 75/100 | Train Acc: 0.9996 | Test Acc: 0.9448\n"
          ]
        },
        {
          "name": "stderr",
          "output_type": "stream",
          "text": [
            "Epoch 76/100: 100%|██████████| 391/391 [00:22<00:00, 17.72it/s, loss=0.0053, lr=0.001000]\n"
          ]
        },
        {
          "name": "stdout",
          "output_type": "stream",
          "text": [
            "Epoch 76/100 | Train Acc: 0.9996 | Test Acc: 0.9444\n"
          ]
        },
        {
          "name": "stderr",
          "output_type": "stream",
          "text": [
            "Epoch 77/100: 100%|██████████| 391/391 [00:22<00:00, 17.73it/s, loss=0.0019, lr=0.001000]\n"
          ]
        },
        {
          "name": "stdout",
          "output_type": "stream",
          "text": [
            "Epoch 77/100 | Train Acc: 0.9998 | Test Acc: 0.9435\n"
          ]
        },
        {
          "name": "stderr",
          "output_type": "stream",
          "text": [
            "Epoch 78/100: 100%|██████████| 391/391 [00:22<00:00, 17.65it/s, loss=0.0052, lr=0.001000]\n"
          ]
        },
        {
          "name": "stdout",
          "output_type": "stream",
          "text": [
            "Epoch 78/100 | Train Acc: 0.9998 | Test Acc: 0.9436\n"
          ]
        },
        {
          "name": "stderr",
          "output_type": "stream",
          "text": [
            "Epoch 79/100: 100%|██████████| 391/391 [00:22<00:00, 17.76it/s, loss=0.0039, lr=0.001000]\n"
          ]
        },
        {
          "name": "stdout",
          "output_type": "stream",
          "text": [
            "Epoch 79/100 | Train Acc: 0.9996 | Test Acc: 0.9430\n"
          ]
        },
        {
          "name": "stderr",
          "output_type": "stream",
          "text": [
            "Epoch 80/100: 100%|██████████| 391/391 [00:22<00:00, 17.69it/s, loss=0.0134, lr=0.001000]\n"
          ]
        },
        {
          "name": "stdout",
          "output_type": "stream",
          "text": [
            "Epoch 80/100 | Train Acc: 0.9997 | Test Acc: 0.9437\n"
          ]
        },
        {
          "name": "stderr",
          "output_type": "stream",
          "text": [
            "Epoch 81/100: 100%|██████████| 391/391 [00:21<00:00, 17.81it/s, loss=0.0077, lr=0.001000]\n"
          ]
        },
        {
          "name": "stdout",
          "output_type": "stream",
          "text": [
            "Epoch 81/100 | Train Acc: 0.9996 | Test Acc: 0.9433\n"
          ]
        },
        {
          "name": "stderr",
          "output_type": "stream",
          "text": [
            "Epoch 82/100: 100%|██████████| 391/391 [00:22<00:00, 17.51it/s, loss=0.0074, lr=0.001000]\n"
          ]
        },
        {
          "name": "stdout",
          "output_type": "stream",
          "text": [
            "Epoch 82/100 | Train Acc: 0.9998 | Test Acc: 0.9448\n"
          ]
        },
        {
          "name": "stderr",
          "output_type": "stream",
          "text": [
            "Epoch 83/100: 100%|██████████| 391/391 [00:22<00:00, 17.41it/s, loss=0.0118, lr=0.001000]\n"
          ]
        },
        {
          "name": "stdout",
          "output_type": "stream",
          "text": [
            "Epoch 83/100 | Train Acc: 0.9997 | Test Acc: 0.9438\n"
          ]
        },
        {
          "name": "stderr",
          "output_type": "stream",
          "text": [
            "Epoch 84/100: 100%|██████████| 391/391 [00:22<00:00, 17.54it/s, loss=0.0019, lr=0.001000]\n"
          ]
        },
        {
          "name": "stdout",
          "output_type": "stream",
          "text": [
            "Epoch 84/100 | Train Acc: 0.9998 | Test Acc: 0.9447\n"
          ]
        },
        {
          "name": "stderr",
          "output_type": "stream",
          "text": [
            "Epoch 85/100: 100%|██████████| 391/391 [00:22<00:00, 17.70it/s, loss=0.0032, lr=0.001000]\n"
          ]
        },
        {
          "name": "stdout",
          "output_type": "stream",
          "text": [
            "Epoch 85/100 | Train Acc: 0.9998 | Test Acc: 0.9447\n"
          ]
        },
        {
          "name": "stderr",
          "output_type": "stream",
          "text": [
            "Epoch 86/100: 100%|██████████| 391/391 [00:22<00:00, 17.75it/s, loss=0.0027, lr=0.001000]\n"
          ]
        },
        {
          "name": "stdout",
          "output_type": "stream",
          "text": [
            "Epoch 86/100 | Train Acc: 0.9998 | Test Acc: 0.9451\n"
          ]
        },
        {
          "name": "stderr",
          "output_type": "stream",
          "text": [
            "Epoch 87/100: 100%|██████████| 391/391 [00:22<00:00, 17.71it/s, loss=0.0069, lr=0.001000]\n"
          ]
        },
        {
          "name": "stdout",
          "output_type": "stream",
          "text": [
            "Epoch 87/100 | Train Acc: 0.9999 | Test Acc: 0.9437\n"
          ]
        },
        {
          "name": "stderr",
          "output_type": "stream",
          "text": [
            "Epoch 88/100: 100%|██████████| 391/391 [00:22<00:00, 17.60it/s, loss=0.0055, lr=0.001000]\n"
          ]
        },
        {
          "name": "stdout",
          "output_type": "stream",
          "text": [
            "Epoch 88/100 | Train Acc: 0.9998 | Test Acc: 0.9443\n"
          ]
        },
        {
          "name": "stderr",
          "output_type": "stream",
          "text": [
            "Epoch 89/100: 100%|██████████| 391/391 [00:22<00:00, 17.73it/s, loss=0.0138, lr=0.001000]\n"
          ]
        },
        {
          "name": "stdout",
          "output_type": "stream",
          "text": [
            "Epoch 89/100 | Train Acc: 0.9999 | Test Acc: 0.9441\n"
          ]
        },
        {
          "name": "stderr",
          "output_type": "stream",
          "text": [
            "Epoch 90/100: 100%|██████████| 391/391 [00:22<00:00, 17.69it/s, loss=0.0030, lr=0.001000]\n"
          ]
        },
        {
          "name": "stdout",
          "output_type": "stream",
          "text": [
            "Epoch 90/100 | Train Acc: 0.9998 | Test Acc: 0.9452\n"
          ]
        },
        {
          "name": "stderr",
          "output_type": "stream",
          "text": [
            "Epoch 91/100: 100%|██████████| 391/391 [00:22<00:00, 17.73it/s, loss=0.0045, lr=0.000100]\n"
          ]
        },
        {
          "name": "stdout",
          "output_type": "stream",
          "text": [
            "Epoch 91/100 | Train Acc: 0.9999 | Test Acc: 0.9449\n"
          ]
        },
        {
          "name": "stderr",
          "output_type": "stream",
          "text": [
            "Epoch 92/100: 100%|██████████| 391/391 [00:22<00:00, 17.67it/s, loss=0.0030, lr=0.000100]\n"
          ]
        },
        {
          "name": "stdout",
          "output_type": "stream",
          "text": [
            "Epoch 92/100 | Train Acc: 0.9999 | Test Acc: 0.9451\n"
          ]
        },
        {
          "name": "stderr",
          "output_type": "stream",
          "text": [
            "Epoch 93/100: 100%|██████████| 391/391 [00:22<00:00, 17.54it/s, loss=0.0035, lr=0.000100]\n"
          ]
        },
        {
          "name": "stdout",
          "output_type": "stream",
          "text": [
            "Epoch 93/100 | Train Acc: 0.9999 | Test Acc: 0.9446\n"
          ]
        },
        {
          "name": "stderr",
          "output_type": "stream",
          "text": [
            "Epoch 94/100: 100%|██████████| 391/391 [00:22<00:00, 17.61it/s, loss=0.0087, lr=0.000100]\n"
          ]
        },
        {
          "name": "stdout",
          "output_type": "stream",
          "text": [
            "Epoch 94/100 | Train Acc: 0.9998 | Test Acc: 0.9445\n"
          ]
        },
        {
          "name": "stderr",
          "output_type": "stream",
          "text": [
            "Epoch 95/100: 100%|██████████| 391/391 [00:22<00:00, 17.50it/s, loss=0.0021, lr=0.000100]\n"
          ]
        },
        {
          "name": "stdout",
          "output_type": "stream",
          "text": [
            "Epoch 95/100 | Train Acc: 0.9998 | Test Acc: 0.9449\n"
          ]
        },
        {
          "name": "stderr",
          "output_type": "stream",
          "text": [
            "Epoch 96/100: 100%|██████████| 391/391 [00:22<00:00, 17.61it/s, loss=0.0019, lr=0.000100]\n"
          ]
        },
        {
          "name": "stdout",
          "output_type": "stream",
          "text": [
            "Epoch 96/100 | Train Acc: 0.9999 | Test Acc: 0.9447\n"
          ]
        },
        {
          "name": "stderr",
          "output_type": "stream",
          "text": [
            "Epoch 97/100: 100%|██████████| 391/391 [00:22<00:00, 17.64it/s, loss=0.0029, lr=0.000100]\n"
          ]
        },
        {
          "name": "stdout",
          "output_type": "stream",
          "text": [
            "Epoch 97/100 | Train Acc: 0.9999 | Test Acc: 0.9456\n"
          ]
        },
        {
          "name": "stderr",
          "output_type": "stream",
          "text": [
            "Epoch 98/100: 100%|██████████| 391/391 [00:22<00:00, 17.61it/s, loss=0.0020, lr=0.000100]\n"
          ]
        },
        {
          "name": "stdout",
          "output_type": "stream",
          "text": [
            "Epoch 98/100 | Train Acc: 0.9999 | Test Acc: 0.9453\n"
          ]
        },
        {
          "name": "stderr",
          "output_type": "stream",
          "text": [
            "Epoch 99/100: 100%|██████████| 391/391 [00:22<00:00, 17.60it/s, loss=0.0094, lr=0.000100]\n"
          ]
        },
        {
          "name": "stdout",
          "output_type": "stream",
          "text": [
            "Epoch 99/100 | Train Acc: 0.9999 | Test Acc: 0.9446\n"
          ]
        },
        {
          "name": "stderr",
          "output_type": "stream",
          "text": [
            "Epoch 100/100: 100%|██████████| 391/391 [00:22<00:00, 17.66it/s, loss=0.0016, lr=0.000100]\n"
          ]
        },
        {
          "name": "stdout",
          "output_type": "stream",
          "text": [
            "Epoch 100/100 | Train Acc: 0.9999 | Test Acc: 0.9455\n",
            "Training time for ResNet18: 2695.26 seconds\n",
            "\n",
            "Running: ResNet50\n",
            "Number of parameters: 23,520,842\n"
          ]
        },
        {
          "name": "stderr",
          "output_type": "stream",
          "text": [
            "Epoch 1/100: 100%|██████████| 391/391 [00:54<00:00,  7.15it/s, loss=2.2523, lr=0.100000]\n"
          ]
        },
        {
          "name": "stdout",
          "output_type": "stream",
          "text": [
            "Epoch 1/100 | Train Acc: 0.1141 | Test Acc: 0.1104\n"
          ]
        },
        {
          "name": "stderr",
          "output_type": "stream",
          "text": [
            "Epoch 2/100: 100%|██████████| 391/391 [00:54<00:00,  7.24it/s, loss=2.0671, lr=0.100000]\n"
          ]
        },
        {
          "name": "stdout",
          "output_type": "stream",
          "text": [
            "Epoch 2/100 | Train Acc: 0.2353 | Test Acc: 0.2288\n"
          ]
        },
        {
          "name": "stderr",
          "output_type": "stream",
          "text": [
            "Epoch 3/100: 100%|██████████| 391/391 [00:54<00:00,  7.22it/s, loss=1.9063, lr=0.100000]\n"
          ]
        },
        {
          "name": "stdout",
          "output_type": "stream",
          "text": [
            "Epoch 3/100 | Train Acc: 0.3121 | Test Acc: 0.3222\n"
          ]
        },
        {
          "name": "stderr",
          "output_type": "stream",
          "text": [
            "Epoch 4/100: 100%|██████████| 391/391 [00:53<00:00,  7.26it/s, loss=1.5891, lr=0.100000]\n"
          ]
        },
        {
          "name": "stdout",
          "output_type": "stream",
          "text": [
            "Epoch 4/100 | Train Acc: 0.4042 | Test Acc: 0.4107\n"
          ]
        },
        {
          "name": "stderr",
          "output_type": "stream",
          "text": [
            "Epoch 5/100: 100%|██████████| 391/391 [00:54<00:00,  7.22it/s, loss=1.5065, lr=0.100000]\n"
          ]
        },
        {
          "name": "stdout",
          "output_type": "stream",
          "text": [
            "Epoch 5/100 | Train Acc: 0.4779 | Test Acc: 0.4848\n"
          ]
        },
        {
          "name": "stderr",
          "output_type": "stream",
          "text": [
            "Epoch 6/100: 100%|██████████| 391/391 [00:53<00:00,  7.25it/s, loss=1.1792, lr=0.100000]\n"
          ]
        },
        {
          "name": "stdout",
          "output_type": "stream",
          "text": [
            "Epoch 6/100 | Train Acc: 0.5277 | Test Acc: 0.5345\n"
          ]
        },
        {
          "name": "stderr",
          "output_type": "stream",
          "text": [
            "Epoch 7/100: 100%|██████████| 391/391 [00:54<00:00,  7.21it/s, loss=0.9913, lr=0.100000]\n"
          ]
        },
        {
          "name": "stdout",
          "output_type": "stream",
          "text": [
            "Epoch 7/100 | Train Acc: 0.5908 | Test Acc: 0.5930\n"
          ]
        },
        {
          "name": "stderr",
          "output_type": "stream",
          "text": [
            "Epoch 8/100: 100%|██████████| 391/391 [00:53<00:00,  7.24it/s, loss=0.8740, lr=0.100000]\n"
          ]
        },
        {
          "name": "stdout",
          "output_type": "stream",
          "text": [
            "Epoch 8/100 | Train Acc: 0.6176 | Test Acc: 0.6219\n"
          ]
        },
        {
          "name": "stderr",
          "output_type": "stream",
          "text": [
            "Epoch 9/100: 100%|██████████| 391/391 [00:53<00:00,  7.27it/s, loss=0.8906, lr=0.100000]\n"
          ]
        },
        {
          "name": "stdout",
          "output_type": "stream",
          "text": [
            "Epoch 9/100 | Train Acc: 0.6725 | Test Acc: 0.6744\n"
          ]
        },
        {
          "name": "stderr",
          "output_type": "stream",
          "text": [
            "Epoch 10/100: 100%|██████████| 391/391 [00:53<00:00,  7.26it/s, loss=0.8916, lr=0.100000]\n"
          ]
        },
        {
          "name": "stdout",
          "output_type": "stream",
          "text": [
            "Epoch 10/100 | Train Acc: 0.6417 | Test Acc: 0.6358\n"
          ]
        },
        {
          "name": "stderr",
          "output_type": "stream",
          "text": [
            "Epoch 11/100: 100%|██████████| 391/391 [00:53<00:00,  7.24it/s, loss=0.8596, lr=0.100000]\n"
          ]
        },
        {
          "name": "stdout",
          "output_type": "stream",
          "text": [
            "Epoch 11/100 | Train Acc: 0.6971 | Test Acc: 0.6800\n"
          ]
        },
        {
          "name": "stderr",
          "output_type": "stream",
          "text": [
            "Epoch 12/100: 100%|██████████| 391/391 [00:54<00:00,  7.21it/s, loss=0.6748, lr=0.100000]\n"
          ]
        },
        {
          "name": "stdout",
          "output_type": "stream",
          "text": [
            "Epoch 12/100 | Train Acc: 0.6540 | Test Acc: 0.6416\n"
          ]
        },
        {
          "name": "stderr",
          "output_type": "stream",
          "text": [
            "Epoch 13/100: 100%|██████████| 391/391 [00:53<00:00,  7.26it/s, loss=0.6144, lr=0.100000]\n"
          ]
        },
        {
          "name": "stdout",
          "output_type": "stream",
          "text": [
            "Epoch 13/100 | Train Acc: 0.6642 | Test Acc: 0.6594\n"
          ]
        },
        {
          "name": "stderr",
          "output_type": "stream",
          "text": [
            "Epoch 14/100: 100%|██████████| 391/391 [00:54<00:00,  7.21it/s, loss=0.8209, lr=0.100000]\n"
          ]
        },
        {
          "name": "stdout",
          "output_type": "stream",
          "text": [
            "Epoch 14/100 | Train Acc: 0.7687 | Test Acc: 0.7561\n"
          ]
        },
        {
          "name": "stderr",
          "output_type": "stream",
          "text": [
            "Epoch 15/100: 100%|██████████| 391/391 [00:54<00:00,  7.20it/s, loss=0.5995, lr=0.100000]\n"
          ]
        },
        {
          "name": "stdout",
          "output_type": "stream",
          "text": [
            "Epoch 15/100 | Train Acc: 0.7700 | Test Acc: 0.7603\n"
          ]
        },
        {
          "name": "stderr",
          "output_type": "stream",
          "text": [
            "Epoch 16/100: 100%|██████████| 391/391 [00:54<00:00,  7.23it/s, loss=0.5384, lr=0.100000]\n"
          ]
        },
        {
          "name": "stdout",
          "output_type": "stream",
          "text": [
            "Epoch 16/100 | Train Acc: 0.7561 | Test Acc: 0.7380\n"
          ]
        },
        {
          "name": "stderr",
          "output_type": "stream",
          "text": [
            "Epoch 17/100: 100%|██████████| 391/391 [00:53<00:00,  7.25it/s, loss=0.9029, lr=0.100000]\n"
          ]
        },
        {
          "name": "stdout",
          "output_type": "stream",
          "text": [
            "Epoch 17/100 | Train Acc: 0.6020 | Test Acc: 0.5837\n"
          ]
        },
        {
          "name": "stderr",
          "output_type": "stream",
          "text": [
            "Epoch 18/100: 100%|██████████| 391/391 [00:54<00:00,  7.14it/s, loss=0.6787, lr=0.100000]\n"
          ]
        },
        {
          "name": "stdout",
          "output_type": "stream",
          "text": [
            "Epoch 18/100 | Train Acc: 0.7608 | Test Acc: 0.7508\n"
          ]
        },
        {
          "name": "stderr",
          "output_type": "stream",
          "text": [
            "Epoch 19/100: 100%|██████████| 391/391 [00:54<00:00,  7.19it/s, loss=0.6472, lr=0.100000]\n"
          ]
        },
        {
          "name": "stdout",
          "output_type": "stream",
          "text": [
            "Epoch 19/100 | Train Acc: 0.7323 | Test Acc: 0.7149\n"
          ]
        },
        {
          "name": "stderr",
          "output_type": "stream",
          "text": [
            "Epoch 20/100: 100%|██████████| 391/391 [00:54<00:00,  7.18it/s, loss=0.6199, lr=0.100000]\n"
          ]
        },
        {
          "name": "stdout",
          "output_type": "stream",
          "text": [
            "Epoch 20/100 | Train Acc: 0.7116 | Test Acc: 0.6906\n"
          ]
        },
        {
          "name": "stderr",
          "output_type": "stream",
          "text": [
            "Epoch 21/100: 100%|██████████| 391/391 [00:54<00:00,  7.18it/s, loss=0.7410, lr=0.100000]\n"
          ]
        },
        {
          "name": "stdout",
          "output_type": "stream",
          "text": [
            "Epoch 21/100 | Train Acc: 0.7892 | Test Acc: 0.7785\n"
          ]
        },
        {
          "name": "stderr",
          "output_type": "stream",
          "text": [
            "Epoch 22/100: 100%|██████████| 391/391 [00:53<00:00,  7.26it/s, loss=0.6237, lr=0.100000]\n"
          ]
        },
        {
          "name": "stdout",
          "output_type": "stream",
          "text": [
            "Epoch 22/100 | Train Acc: 0.7453 | Test Acc: 0.7390\n"
          ]
        },
        {
          "name": "stderr",
          "output_type": "stream",
          "text": [
            "Epoch 23/100: 100%|██████████| 391/391 [00:54<00:00,  7.23it/s, loss=0.6525, lr=0.100000]\n"
          ]
        },
        {
          "name": "stdout",
          "output_type": "stream",
          "text": [
            "Epoch 23/100 | Train Acc: 0.7946 | Test Acc: 0.7664\n"
          ]
        },
        {
          "name": "stderr",
          "output_type": "stream",
          "text": [
            "Epoch 24/100: 100%|██████████| 391/391 [00:53<00:00,  7.27it/s, loss=0.3272, lr=0.100000]\n"
          ]
        },
        {
          "name": "stdout",
          "output_type": "stream",
          "text": [
            "Epoch 24/100 | Train Acc: 0.7664 | Test Acc: 0.7525\n"
          ]
        },
        {
          "name": "stderr",
          "output_type": "stream",
          "text": [
            "Epoch 25/100: 100%|██████████| 391/391 [00:53<00:00,  7.24it/s, loss=0.4676, lr=0.100000]\n"
          ]
        },
        {
          "name": "stdout",
          "output_type": "stream",
          "text": [
            "Epoch 25/100 | Train Acc: 0.7924 | Test Acc: 0.7892\n"
          ]
        },
        {
          "name": "stderr",
          "output_type": "stream",
          "text": [
            "Epoch 26/100: 100%|██████████| 391/391 [00:54<00:00,  7.23it/s, loss=0.4043, lr=0.100000]\n"
          ]
        },
        {
          "name": "stdout",
          "output_type": "stream",
          "text": [
            "Epoch 26/100 | Train Acc: 0.7969 | Test Acc: 0.7749\n"
          ]
        },
        {
          "name": "stderr",
          "output_type": "stream",
          "text": [
            "Epoch 27/100: 100%|██████████| 391/391 [00:53<00:00,  7.24it/s, loss=0.6022, lr=0.100000]\n"
          ]
        },
        {
          "name": "stdout",
          "output_type": "stream",
          "text": [
            "Epoch 27/100 | Train Acc: 0.7692 | Test Acc: 0.7551\n"
          ]
        },
        {
          "name": "stderr",
          "output_type": "stream",
          "text": [
            "Epoch 28/100: 100%|██████████| 391/391 [00:54<00:00,  7.21it/s, loss=0.5092, lr=0.100000]\n"
          ]
        },
        {
          "name": "stdout",
          "output_type": "stream",
          "text": [
            "Epoch 28/100 | Train Acc: 0.7910 | Test Acc: 0.7857\n"
          ]
        },
        {
          "name": "stderr",
          "output_type": "stream",
          "text": [
            "Epoch 29/100: 100%|██████████| 391/391 [00:54<00:00,  7.22it/s, loss=0.6231, lr=0.100000]\n"
          ]
        },
        {
          "name": "stdout",
          "output_type": "stream",
          "text": [
            "Epoch 29/100 | Train Acc: 0.8009 | Test Acc: 0.7894\n"
          ]
        },
        {
          "name": "stderr",
          "output_type": "stream",
          "text": [
            "Epoch 30/100: 100%|██████████| 391/391 [00:54<00:00,  7.16it/s, loss=0.4398, lr=0.100000]\n"
          ]
        },
        {
          "name": "stdout",
          "output_type": "stream",
          "text": [
            "Epoch 30/100 | Train Acc: 0.8124 | Test Acc: 0.7961\n"
          ]
        },
        {
          "name": "stderr",
          "output_type": "stream",
          "text": [
            "Epoch 31/100: 100%|██████████| 391/391 [00:54<00:00,  7.14it/s, loss=0.2886, lr=0.010000]\n"
          ]
        },
        {
          "name": "stdout",
          "output_type": "stream",
          "text": [
            "Epoch 31/100 | Train Acc: 0.9217 | Test Acc: 0.8978\n"
          ]
        },
        {
          "name": "stderr",
          "output_type": "stream",
          "text": [
            "Epoch 32/100: 100%|██████████| 391/391 [00:53<00:00,  7.26it/s, loss=0.3605, lr=0.010000]\n"
          ]
        },
        {
          "name": "stdout",
          "output_type": "stream",
          "text": [
            "Epoch 32/100 | Train Acc: 0.9317 | Test Acc: 0.9029\n"
          ]
        },
        {
          "name": "stderr",
          "output_type": "stream",
          "text": [
            "Epoch 33/100: 100%|██████████| 391/391 [00:53<00:00,  7.25it/s, loss=0.1601, lr=0.010000]\n"
          ]
        },
        {
          "name": "stdout",
          "output_type": "stream",
          "text": [
            "Epoch 33/100 | Train Acc: 0.9378 | Test Acc: 0.9079\n"
          ]
        },
        {
          "name": "stderr",
          "output_type": "stream",
          "text": [
            "Epoch 34/100: 100%|██████████| 391/391 [00:53<00:00,  7.26it/s, loss=0.2375, lr=0.010000]\n"
          ]
        },
        {
          "name": "stdout",
          "output_type": "stream",
          "text": [
            "Epoch 34/100 | Train Acc: 0.9415 | Test Acc: 0.9089\n"
          ]
        },
        {
          "name": "stderr",
          "output_type": "stream",
          "text": [
            "Epoch 35/100: 100%|██████████| 391/391 [00:53<00:00,  7.26it/s, loss=0.2267, lr=0.010000]\n"
          ]
        },
        {
          "name": "stdout",
          "output_type": "stream",
          "text": [
            "Epoch 35/100 | Train Acc: 0.9467 | Test Acc: 0.9095\n"
          ]
        },
        {
          "name": "stderr",
          "output_type": "stream",
          "text": [
            "Epoch 36/100: 100%|██████████| 391/391 [00:54<00:00,  7.24it/s, loss=0.3621, lr=0.010000]\n"
          ]
        },
        {
          "name": "stdout",
          "output_type": "stream",
          "text": [
            "Epoch 36/100 | Train Acc: 0.9505 | Test Acc: 0.9094\n"
          ]
        },
        {
          "name": "stderr",
          "output_type": "stream",
          "text": [
            "Epoch 37/100: 100%|██████████| 391/391 [00:53<00:00,  7.27it/s, loss=0.1015, lr=0.010000]\n"
          ]
        },
        {
          "name": "stdout",
          "output_type": "stream",
          "text": [
            "Epoch 37/100 | Train Acc: 0.9523 | Test Acc: 0.9133\n"
          ]
        },
        {
          "name": "stderr",
          "output_type": "stream",
          "text": [
            "Epoch 38/100: 100%|██████████| 391/391 [00:53<00:00,  7.26it/s, loss=0.1628, lr=0.010000]\n"
          ]
        },
        {
          "name": "stdout",
          "output_type": "stream",
          "text": [
            "Epoch 38/100 | Train Acc: 0.9549 | Test Acc: 0.9121\n"
          ]
        },
        {
          "name": "stderr",
          "output_type": "stream",
          "text": [
            "Epoch 39/100: 100%|██████████| 391/391 [00:54<00:00,  7.24it/s, loss=0.0965, lr=0.010000]\n"
          ]
        },
        {
          "name": "stdout",
          "output_type": "stream",
          "text": [
            "Epoch 39/100 | Train Acc: 0.9529 | Test Acc: 0.9082\n"
          ]
        },
        {
          "name": "stderr",
          "output_type": "stream",
          "text": [
            "Epoch 40/100: 100%|██████████| 391/391 [00:53<00:00,  7.25it/s, loss=0.1163, lr=0.010000]\n"
          ]
        },
        {
          "name": "stdout",
          "output_type": "stream",
          "text": [
            "Epoch 40/100 | Train Acc: 0.9608 | Test Acc: 0.9131\n"
          ]
        },
        {
          "name": "stderr",
          "output_type": "stream",
          "text": [
            "Epoch 41/100: 100%|██████████| 391/391 [00:54<00:00,  7.23it/s, loss=0.0754, lr=0.010000]\n"
          ]
        },
        {
          "name": "stdout",
          "output_type": "stream",
          "text": [
            "Epoch 41/100 | Train Acc: 0.9577 | Test Acc: 0.9069\n"
          ]
        },
        {
          "name": "stderr",
          "output_type": "stream",
          "text": [
            "Epoch 42/100: 100%|██████████| 391/391 [00:54<00:00,  7.22it/s, loss=0.2415, lr=0.010000]\n"
          ]
        },
        {
          "name": "stdout",
          "output_type": "stream",
          "text": [
            "Epoch 42/100 | Train Acc: 0.9579 | Test Acc: 0.9061\n"
          ]
        },
        {
          "name": "stderr",
          "output_type": "stream",
          "text": [
            "Epoch 43/100: 100%|██████████| 391/391 [00:54<00:00,  7.18it/s, loss=0.1187, lr=0.010000]\n"
          ]
        },
        {
          "name": "stdout",
          "output_type": "stream",
          "text": [
            "Epoch 43/100 | Train Acc: 0.9636 | Test Acc: 0.9084\n"
          ]
        },
        {
          "name": "stderr",
          "output_type": "stream",
          "text": [
            "Epoch 44/100: 100%|██████████| 391/391 [00:55<00:00,  7.10it/s, loss=0.1976, lr=0.010000]\n"
          ]
        },
        {
          "name": "stdout",
          "output_type": "stream",
          "text": [
            "Epoch 44/100 | Train Acc: 0.9641 | Test Acc: 0.9097\n"
          ]
        },
        {
          "name": "stderr",
          "output_type": "stream",
          "text": [
            "Epoch 45/100: 100%|██████████| 391/391 [00:55<00:00,  7.10it/s, loss=0.1250, lr=0.010000]\n"
          ]
        },
        {
          "name": "stdout",
          "output_type": "stream",
          "text": [
            "Epoch 45/100 | Train Acc: 0.9658 | Test Acc: 0.9129\n"
          ]
        },
        {
          "name": "stderr",
          "output_type": "stream",
          "text": [
            "Epoch 46/100: 100%|██████████| 391/391 [00:54<00:00,  7.11it/s, loss=0.1239, lr=0.010000]\n"
          ]
        },
        {
          "name": "stdout",
          "output_type": "stream",
          "text": [
            "Epoch 46/100 | Train Acc: 0.9569 | Test Acc: 0.9027\n"
          ]
        },
        {
          "name": "stderr",
          "output_type": "stream",
          "text": [
            "Epoch 47/100: 100%|██████████| 391/391 [00:55<00:00,  7.10it/s, loss=0.1356, lr=0.010000]\n"
          ]
        },
        {
          "name": "stdout",
          "output_type": "stream",
          "text": [
            "Epoch 47/100 | Train Acc: 0.9684 | Test Acc: 0.9129\n"
          ]
        },
        {
          "name": "stderr",
          "output_type": "stream",
          "text": [
            "Epoch 48/100: 100%|██████████| 391/391 [00:55<00:00,  7.08it/s, loss=0.0661, lr=0.010000]\n"
          ]
        },
        {
          "name": "stdout",
          "output_type": "stream",
          "text": [
            "Epoch 48/100 | Train Acc: 0.9653 | Test Acc: 0.9082\n"
          ]
        },
        {
          "name": "stderr",
          "output_type": "stream",
          "text": [
            "Epoch 49/100: 100%|██████████| 391/391 [00:55<00:00,  7.10it/s, loss=0.0384, lr=0.010000]\n"
          ]
        },
        {
          "name": "stdout",
          "output_type": "stream",
          "text": [
            "Epoch 49/100 | Train Acc: 0.9679 | Test Acc: 0.9075\n"
          ]
        },
        {
          "name": "stderr",
          "output_type": "stream",
          "text": [
            "Epoch 50/100: 100%|██████████| 391/391 [00:54<00:00,  7.11it/s, loss=0.0773, lr=0.010000]\n"
          ]
        },
        {
          "name": "stdout",
          "output_type": "stream",
          "text": [
            "Epoch 50/100 | Train Acc: 0.9696 | Test Acc: 0.9066\n"
          ]
        },
        {
          "name": "stderr",
          "output_type": "stream",
          "text": [
            "Epoch 51/100: 100%|██████████| 391/391 [00:54<00:00,  7.11it/s, loss=0.0801, lr=0.010000]\n"
          ]
        },
        {
          "name": "stdout",
          "output_type": "stream",
          "text": [
            "Epoch 51/100 | Train Acc: 0.9676 | Test Acc: 0.9062\n"
          ]
        },
        {
          "name": "stderr",
          "output_type": "stream",
          "text": [
            "Epoch 52/100: 100%|██████████| 391/391 [00:55<00:00,  7.10it/s, loss=0.1039, lr=0.010000]\n"
          ]
        },
        {
          "name": "stdout",
          "output_type": "stream",
          "text": [
            "Epoch 52/100 | Train Acc: 0.9632 | Test Acc: 0.9012\n"
          ]
        },
        {
          "name": "stderr",
          "output_type": "stream",
          "text": [
            "Epoch 53/100: 100%|██████████| 391/391 [00:54<00:00,  7.12it/s, loss=0.0696, lr=0.010000]\n"
          ]
        },
        {
          "name": "stdout",
          "output_type": "stream",
          "text": [
            "Epoch 53/100 | Train Acc: 0.9647 | Test Acc: 0.9032\n"
          ]
        },
        {
          "name": "stderr",
          "output_type": "stream",
          "text": [
            "Epoch 54/100: 100%|██████████| 391/391 [00:54<00:00,  7.11it/s, loss=0.1506, lr=0.010000]\n"
          ]
        },
        {
          "name": "stdout",
          "output_type": "stream",
          "text": [
            "Epoch 54/100 | Train Acc: 0.9681 | Test Acc: 0.9062\n"
          ]
        },
        {
          "name": "stderr",
          "output_type": "stream",
          "text": [
            "Epoch 55/100: 100%|██████████| 391/391 [00:54<00:00,  7.12it/s, loss=0.1757, lr=0.010000]\n"
          ]
        },
        {
          "name": "stdout",
          "output_type": "stream",
          "text": [
            "Epoch 55/100 | Train Acc: 0.9626 | Test Acc: 0.8976\n"
          ]
        },
        {
          "name": "stderr",
          "output_type": "stream",
          "text": [
            "Epoch 56/100: 100%|██████████| 391/391 [00:55<00:00,  7.11it/s, loss=0.1924, lr=0.010000]\n"
          ]
        },
        {
          "name": "stdout",
          "output_type": "stream",
          "text": [
            "Epoch 56/100 | Train Acc: 0.9642 | Test Acc: 0.9024\n"
          ]
        },
        {
          "name": "stderr",
          "output_type": "stream",
          "text": [
            "Epoch 57/100: 100%|██████████| 391/391 [00:55<00:00,  7.10it/s, loss=0.0889, lr=0.010000]\n"
          ]
        },
        {
          "name": "stdout",
          "output_type": "stream",
          "text": [
            "Epoch 57/100 | Train Acc: 0.9719 | Test Acc: 0.9114\n"
          ]
        },
        {
          "name": "stderr",
          "output_type": "stream",
          "text": [
            "Epoch 58/100: 100%|██████████| 391/391 [00:55<00:00,  7.11it/s, loss=0.2376, lr=0.010000]\n"
          ]
        },
        {
          "name": "stdout",
          "output_type": "stream",
          "text": [
            "Epoch 58/100 | Train Acc: 0.9631 | Test Acc: 0.9025\n"
          ]
        },
        {
          "name": "stderr",
          "output_type": "stream",
          "text": [
            "Epoch 59/100: 100%|██████████| 391/391 [00:55<00:00,  7.11it/s, loss=0.0472, lr=0.010000]\n"
          ]
        },
        {
          "name": "stdout",
          "output_type": "stream",
          "text": [
            "Epoch 59/100 | Train Acc: 0.9710 | Test Acc: 0.9108\n"
          ]
        },
        {
          "name": "stderr",
          "output_type": "stream",
          "text": [
            "Epoch 60/100: 100%|██████████| 391/391 [00:55<00:00,  7.10it/s, loss=0.1058, lr=0.010000]\n"
          ]
        },
        {
          "name": "stdout",
          "output_type": "stream",
          "text": [
            "Epoch 60/100 | Train Acc: 0.9645 | Test Acc: 0.9081\n"
          ]
        },
        {
          "name": "stderr",
          "output_type": "stream",
          "text": [
            "Epoch 61/100: 100%|██████████| 391/391 [00:54<00:00,  7.11it/s, loss=0.0282, lr=0.001000]\n"
          ]
        },
        {
          "name": "stdout",
          "output_type": "stream",
          "text": [
            "Epoch 61/100 | Train Acc: 0.9914 | Test Acc: 0.9280\n"
          ]
        },
        {
          "name": "stderr",
          "output_type": "stream",
          "text": [
            "Epoch 62/100: 100%|██████████| 391/391 [00:55<00:00,  7.11it/s, loss=0.0514, lr=0.001000]\n"
          ]
        },
        {
          "name": "stdout",
          "output_type": "stream",
          "text": [
            "Epoch 62/100 | Train Acc: 0.9934 | Test Acc: 0.9315\n"
          ]
        },
        {
          "name": "stderr",
          "output_type": "stream",
          "text": [
            "Epoch 63/100: 100%|██████████| 391/391 [00:55<00:00,  7.11it/s, loss=0.0183, lr=0.001000]\n"
          ]
        },
        {
          "name": "stdout",
          "output_type": "stream",
          "text": [
            "Epoch 63/100 | Train Acc: 0.9957 | Test Acc: 0.9298\n"
          ]
        },
        {
          "name": "stderr",
          "output_type": "stream",
          "text": [
            "Epoch 64/100: 100%|██████████| 391/391 [00:55<00:00,  7.11it/s, loss=0.0299, lr=0.001000]\n"
          ]
        },
        {
          "name": "stdout",
          "output_type": "stream",
          "text": [
            "Epoch 64/100 | Train Acc: 0.9962 | Test Acc: 0.9317\n"
          ]
        },
        {
          "name": "stderr",
          "output_type": "stream",
          "text": [
            "Epoch 65/100: 100%|██████████| 391/391 [00:55<00:00,  7.11it/s, loss=0.0178, lr=0.001000]\n"
          ]
        },
        {
          "name": "stdout",
          "output_type": "stream",
          "text": [
            "Epoch 65/100 | Train Acc: 0.9964 | Test Acc: 0.9333\n"
          ]
        },
        {
          "name": "stderr",
          "output_type": "stream",
          "text": [
            "Epoch 66/100: 100%|██████████| 391/391 [00:54<00:00,  7.13it/s, loss=0.0296, lr=0.001000]\n"
          ]
        },
        {
          "name": "stdout",
          "output_type": "stream",
          "text": [
            "Epoch 66/100 | Train Acc: 0.9967 | Test Acc: 0.9317\n"
          ]
        },
        {
          "name": "stderr",
          "output_type": "stream",
          "text": [
            "Epoch 67/100: 100%|██████████| 391/391 [00:54<00:00,  7.11it/s, loss=0.0216, lr=0.001000]\n"
          ]
        },
        {
          "name": "stdout",
          "output_type": "stream",
          "text": [
            "Epoch 67/100 | Train Acc: 0.9975 | Test Acc: 0.9322\n"
          ]
        },
        {
          "name": "stderr",
          "output_type": "stream",
          "text": [
            "Epoch 68/100: 100%|██████████| 391/391 [00:55<00:00,  7.08it/s, loss=0.0098, lr=0.001000]\n"
          ]
        },
        {
          "name": "stdout",
          "output_type": "stream",
          "text": [
            "Epoch 68/100 | Train Acc: 0.9976 | Test Acc: 0.9333\n"
          ]
        },
        {
          "name": "stderr",
          "output_type": "stream",
          "text": [
            "Epoch 69/100: 100%|██████████| 391/391 [00:55<00:00,  7.11it/s, loss=0.0204, lr=0.001000]\n"
          ]
        },
        {
          "name": "stdout",
          "output_type": "stream",
          "text": [
            "Epoch 69/100 | Train Acc: 0.9977 | Test Acc: 0.9330\n"
          ]
        },
        {
          "name": "stderr",
          "output_type": "stream",
          "text": [
            "Epoch 70/100: 100%|██████████| 391/391 [00:55<00:00,  7.09it/s, loss=0.0122, lr=0.001000]\n"
          ]
        },
        {
          "name": "stdout",
          "output_type": "stream",
          "text": [
            "Epoch 70/100 | Train Acc: 0.9982 | Test Acc: 0.9330\n"
          ]
        },
        {
          "name": "stderr",
          "output_type": "stream",
          "text": [
            "Epoch 71/100: 100%|██████████| 391/391 [00:55<00:00,  7.08it/s, loss=0.0074, lr=0.001000]\n"
          ]
        },
        {
          "name": "stdout",
          "output_type": "stream",
          "text": [
            "Epoch 71/100 | Train Acc: 0.9980 | Test Acc: 0.9315\n"
          ]
        },
        {
          "name": "stderr",
          "output_type": "stream",
          "text": [
            "Epoch 72/100: 100%|██████████| 391/391 [00:55<00:00,  7.07it/s, loss=0.0094, lr=0.001000]\n"
          ]
        },
        {
          "name": "stdout",
          "output_type": "stream",
          "text": [
            "Epoch 72/100 | Train Acc: 0.9981 | Test Acc: 0.9333\n"
          ]
        },
        {
          "name": "stderr",
          "output_type": "stream",
          "text": [
            "Epoch 73/100: 100%|██████████| 391/391 [00:55<00:00,  7.09it/s, loss=0.0026, lr=0.001000]\n"
          ]
        },
        {
          "name": "stdout",
          "output_type": "stream",
          "text": [
            "Epoch 73/100 | Train Acc: 0.9983 | Test Acc: 0.9331\n"
          ]
        },
        {
          "name": "stderr",
          "output_type": "stream",
          "text": [
            "Epoch 74/100: 100%|██████████| 391/391 [00:55<00:00,  7.09it/s, loss=0.0029, lr=0.001000]\n"
          ]
        },
        {
          "name": "stdout",
          "output_type": "stream",
          "text": [
            "Epoch 74/100 | Train Acc: 0.9984 | Test Acc: 0.9336\n"
          ]
        },
        {
          "name": "stderr",
          "output_type": "stream",
          "text": [
            "Epoch 75/100: 100%|██████████| 391/391 [00:55<00:00,  7.10it/s, loss=0.0431, lr=0.001000]\n"
          ]
        },
        {
          "name": "stdout",
          "output_type": "stream",
          "text": [
            "Epoch 75/100 | Train Acc: 0.9986 | Test Acc: 0.9355\n"
          ]
        },
        {
          "name": "stderr",
          "output_type": "stream",
          "text": [
            "Epoch 76/100: 100%|██████████| 391/391 [00:55<00:00,  7.11it/s, loss=0.0068, lr=0.001000]\n"
          ]
        },
        {
          "name": "stdout",
          "output_type": "stream",
          "text": [
            "Epoch 76/100 | Train Acc: 0.9991 | Test Acc: 0.9353\n"
          ]
        },
        {
          "name": "stderr",
          "output_type": "stream",
          "text": [
            "Epoch 77/100: 100%|██████████| 391/391 [00:54<00:00,  7.12it/s, loss=0.0081, lr=0.001000]\n"
          ]
        },
        {
          "name": "stdout",
          "output_type": "stream",
          "text": [
            "Epoch 77/100 | Train Acc: 0.9989 | Test Acc: 0.9350\n"
          ]
        },
        {
          "name": "stderr",
          "output_type": "stream",
          "text": [
            "Epoch 78/100: 100%|██████████| 391/391 [00:55<00:00,  7.11it/s, loss=0.0096, lr=0.001000]\n"
          ]
        },
        {
          "name": "stdout",
          "output_type": "stream",
          "text": [
            "Epoch 78/100 | Train Acc: 0.9990 | Test Acc: 0.9350\n"
          ]
        },
        {
          "name": "stderr",
          "output_type": "stream",
          "text": [
            "Epoch 79/100: 100%|██████████| 391/391 [00:54<00:00,  7.11it/s, loss=0.0020, lr=0.001000]\n"
          ]
        },
        {
          "name": "stdout",
          "output_type": "stream",
          "text": [
            "Epoch 79/100 | Train Acc: 0.9992 | Test Acc: 0.9363\n"
          ]
        },
        {
          "name": "stderr",
          "output_type": "stream",
          "text": [
            "Epoch 80/100: 100%|██████████| 391/391 [00:55<00:00,  7.11it/s, loss=0.0075, lr=0.001000]\n"
          ]
        },
        {
          "name": "stdout",
          "output_type": "stream",
          "text": [
            "Epoch 80/100 | Train Acc: 0.9992 | Test Acc: 0.9354\n"
          ]
        },
        {
          "name": "stderr",
          "output_type": "stream",
          "text": [
            "Epoch 81/100: 100%|██████████| 391/391 [00:54<00:00,  7.11it/s, loss=0.0046, lr=0.001000]\n"
          ]
        },
        {
          "name": "stdout",
          "output_type": "stream",
          "text": [
            "Epoch 81/100 | Train Acc: 0.9992 | Test Acc: 0.9357\n"
          ]
        },
        {
          "name": "stderr",
          "output_type": "stream",
          "text": [
            "Epoch 82/100: 100%|██████████| 391/391 [00:55<00:00,  7.11it/s, loss=0.0028, lr=0.001000]\n"
          ]
        },
        {
          "name": "stdout",
          "output_type": "stream",
          "text": [
            "Epoch 82/100 | Train Acc: 0.9990 | Test Acc: 0.9333\n"
          ]
        },
        {
          "name": "stderr",
          "output_type": "stream",
          "text": [
            "Epoch 83/100: 100%|██████████| 391/391 [00:55<00:00,  7.07it/s, loss=0.0229, lr=0.001000]\n"
          ]
        },
        {
          "name": "stdout",
          "output_type": "stream",
          "text": [
            "Epoch 83/100 | Train Acc: 0.9994 | Test Acc: 0.9360\n"
          ]
        },
        {
          "name": "stderr",
          "output_type": "stream",
          "text": [
            "Epoch 84/100: 100%|██████████| 391/391 [00:55<00:00,  7.09it/s, loss=0.0119, lr=0.001000]\n"
          ]
        },
        {
          "name": "stdout",
          "output_type": "stream",
          "text": [
            "Epoch 84/100 | Train Acc: 0.9992 | Test Acc: 0.9365\n"
          ]
        },
        {
          "name": "stderr",
          "output_type": "stream",
          "text": [
            "Epoch 85/100: 100%|██████████| 391/391 [00:55<00:00,  7.07it/s, loss=0.0035, lr=0.001000]\n"
          ]
        },
        {
          "name": "stdout",
          "output_type": "stream",
          "text": [
            "Epoch 85/100 | Train Acc: 0.9991 | Test Acc: 0.9331\n"
          ]
        },
        {
          "name": "stderr",
          "output_type": "stream",
          "text": [
            "Epoch 86/100: 100%|██████████| 391/391 [00:55<00:00,  7.09it/s, loss=0.0113, lr=0.001000]\n"
          ]
        },
        {
          "name": "stdout",
          "output_type": "stream",
          "text": [
            "Epoch 86/100 | Train Acc: 0.9995 | Test Acc: 0.9352\n"
          ]
        },
        {
          "name": "stderr",
          "output_type": "stream",
          "text": [
            "Epoch 87/100: 100%|██████████| 391/391 [00:55<00:00,  7.06it/s, loss=0.0025, lr=0.001000]\n"
          ]
        },
        {
          "name": "stdout",
          "output_type": "stream",
          "text": [
            "Epoch 87/100 | Train Acc: 0.9993 | Test Acc: 0.9329\n"
          ]
        },
        {
          "name": "stderr",
          "output_type": "stream",
          "text": [
            "Epoch 88/100: 100%|██████████| 391/391 [00:55<00:00,  7.09it/s, loss=0.0210, lr=0.001000]\n"
          ]
        },
        {
          "name": "stdout",
          "output_type": "stream",
          "text": [
            "Epoch 88/100 | Train Acc: 0.9996 | Test Acc: 0.9349\n"
          ]
        },
        {
          "name": "stderr",
          "output_type": "stream",
          "text": [
            "Epoch 89/100: 100%|██████████| 391/391 [00:55<00:00,  7.09it/s, loss=0.0039, lr=0.001000]\n"
          ]
        },
        {
          "name": "stdout",
          "output_type": "stream",
          "text": [
            "Epoch 89/100 | Train Acc: 0.9995 | Test Acc: 0.9339\n"
          ]
        },
        {
          "name": "stderr",
          "output_type": "stream",
          "text": [
            "Epoch 90/100: 100%|██████████| 391/391 [00:55<00:00,  7.09it/s, loss=0.0079, lr=0.001000]\n"
          ]
        },
        {
          "name": "stdout",
          "output_type": "stream",
          "text": [
            "Epoch 90/100 | Train Acc: 0.9995 | Test Acc: 0.9340\n"
          ]
        },
        {
          "name": "stderr",
          "output_type": "stream",
          "text": [
            "Epoch 91/100: 100%|██████████| 391/391 [00:54<00:00,  7.13it/s, loss=0.0300, lr=0.000100]\n"
          ]
        },
        {
          "name": "stdout",
          "output_type": "stream",
          "text": [
            "Epoch 91/100 | Train Acc: 0.9997 | Test Acc: 0.9332\n"
          ]
        },
        {
          "name": "stderr",
          "output_type": "stream",
          "text": [
            "Epoch 92/100: 100%|██████████| 391/391 [00:54<00:00,  7.14it/s, loss=0.0028, lr=0.000100]\n"
          ]
        },
        {
          "name": "stdout",
          "output_type": "stream",
          "text": [
            "Epoch 92/100 | Train Acc: 0.9995 | Test Acc: 0.9349\n"
          ]
        },
        {
          "name": "stderr",
          "output_type": "stream",
          "text": [
            "Epoch 93/100: 100%|██████████| 391/391 [00:54<00:00,  7.14it/s, loss=0.0182, lr=0.000100]\n"
          ]
        },
        {
          "name": "stdout",
          "output_type": "stream",
          "text": [
            "Epoch 93/100 | Train Acc: 0.9996 | Test Acc: 0.9342\n"
          ]
        },
        {
          "name": "stderr",
          "output_type": "stream",
          "text": [
            "Epoch 94/100: 100%|██████████| 391/391 [00:54<00:00,  7.17it/s, loss=0.0110, lr=0.000100]\n"
          ]
        },
        {
          "name": "stdout",
          "output_type": "stream",
          "text": [
            "Epoch 94/100 | Train Acc: 0.9995 | Test Acc: 0.9338\n"
          ]
        },
        {
          "name": "stderr",
          "output_type": "stream",
          "text": [
            "Epoch 95/100: 100%|██████████| 391/391 [00:54<00:00,  7.17it/s, loss=0.0029, lr=0.000100]\n"
          ]
        },
        {
          "name": "stdout",
          "output_type": "stream",
          "text": [
            "Epoch 95/100 | Train Acc: 0.9997 | Test Acc: 0.9346\n"
          ]
        },
        {
          "name": "stderr",
          "output_type": "stream",
          "text": [
            "Epoch 96/100: 100%|██████████| 391/391 [00:54<00:00,  7.17it/s, loss=0.0016, lr=0.000100]\n"
          ]
        },
        {
          "name": "stdout",
          "output_type": "stream",
          "text": [
            "Epoch 96/100 | Train Acc: 0.9995 | Test Acc: 0.9347\n"
          ]
        },
        {
          "name": "stderr",
          "output_type": "stream",
          "text": [
            "Epoch 97/100: 100%|██████████| 391/391 [00:54<00:00,  7.15it/s, loss=0.0251, lr=0.000100]\n"
          ]
        },
        {
          "name": "stdout",
          "output_type": "stream",
          "text": [
            "Epoch 97/100 | Train Acc: 0.9996 | Test Acc: 0.9346\n"
          ]
        },
        {
          "name": "stderr",
          "output_type": "stream",
          "text": [
            "Epoch 98/100: 100%|██████████| 391/391 [00:54<00:00,  7.15it/s, loss=0.0034, lr=0.000100]\n"
          ]
        },
        {
          "name": "stdout",
          "output_type": "stream",
          "text": [
            "Epoch 98/100 | Train Acc: 0.9994 | Test Acc: 0.9354\n"
          ]
        },
        {
          "name": "stderr",
          "output_type": "stream",
          "text": [
            "Epoch 99/100: 100%|██████████| 391/391 [00:54<00:00,  7.15it/s, loss=0.0023, lr=0.000100]\n"
          ]
        },
        {
          "name": "stdout",
          "output_type": "stream",
          "text": [
            "Epoch 99/100 | Train Acc: 0.9996 | Test Acc: 0.9338\n"
          ]
        },
        {
          "name": "stderr",
          "output_type": "stream",
          "text": [
            "Epoch 100/100: 100%|██████████| 391/391 [00:54<00:00,  7.17it/s, loss=0.0022, lr=0.000100]\n"
          ]
        },
        {
          "name": "stdout",
          "output_type": "stream",
          "text": [
            "Epoch 100/100 | Train Acc: 0.9995 | Test Acc: 0.9346\n",
            "Training time for ResNet50: 6349.18 seconds\n",
            "\n",
            "Running: ResNet101\n",
            "Number of parameters: 42,512,970\n"
          ]
        },
        {
          "name": "stderr",
          "output_type": "stream",
          "text": [
            "Epoch 1/100: 100%|██████████| 391/391 [01:37<00:00,  4.02it/s, loss=2.0671, lr=0.100000]\n"
          ]
        },
        {
          "name": "stdout",
          "output_type": "stream",
          "text": [
            "Epoch 1/100 | Train Acc: 0.2199 | Test Acc: 0.2161\n"
          ]
        },
        {
          "name": "stderr",
          "output_type": "stream",
          "text": [
            "Epoch 2/100: 100%|██████████| 391/391 [01:37<00:00,  4.03it/s, loss=1.7859, lr=0.100000]\n"
          ]
        },
        {
          "name": "stdout",
          "output_type": "stream",
          "text": [
            "Epoch 2/100 | Train Acc: 0.2565 | Test Acc: 0.2650\n"
          ]
        },
        {
          "name": "stderr",
          "output_type": "stream",
          "text": [
            "Epoch 3/100: 100%|██████████| 391/391 [01:37<00:00,  4.01it/s, loss=1.8143, lr=0.100000]\n"
          ]
        },
        {
          "name": "stdout",
          "output_type": "stream",
          "text": [
            "Epoch 3/100 | Train Acc: 0.3178 | Test Acc: 0.3268\n"
          ]
        },
        {
          "name": "stderr",
          "output_type": "stream",
          "text": [
            "Epoch 4/100: 100%|██████████| 391/391 [01:38<00:00,  3.97it/s, loss=1.4915, lr=0.100000]\n"
          ]
        },
        {
          "name": "stdout",
          "output_type": "stream",
          "text": [
            "Epoch 4/100 | Train Acc: 0.4184 | Test Acc: 0.4173\n"
          ]
        },
        {
          "name": "stderr",
          "output_type": "stream",
          "text": [
            "Epoch 5/100: 100%|██████████| 391/391 [01:37<00:00,  4.03it/s, loss=1.5152, lr=0.100000]\n"
          ]
        },
        {
          "name": "stdout",
          "output_type": "stream",
          "text": [
            "Epoch 5/100 | Train Acc: 0.4851 | Test Acc: 0.4992\n"
          ]
        },
        {
          "name": "stderr",
          "output_type": "stream",
          "text": [
            "Epoch 6/100: 100%|██████████| 391/391 [01:36<00:00,  4.03it/s, loss=1.2345, lr=0.100000]\n"
          ]
        },
        {
          "name": "stdout",
          "output_type": "stream",
          "text": [
            "Epoch 6/100 | Train Acc: 0.5728 | Test Acc: 0.5738\n"
          ]
        },
        {
          "name": "stderr",
          "output_type": "stream",
          "text": [
            "Epoch 7/100: 100%|██████████| 391/391 [01:37<00:00,  4.02it/s, loss=0.9170, lr=0.100000]\n"
          ]
        },
        {
          "name": "stdout",
          "output_type": "stream",
          "text": [
            "Epoch 7/100 | Train Acc: 0.5218 | Test Acc: 0.5264\n"
          ]
        },
        {
          "name": "stderr",
          "output_type": "stream",
          "text": [
            "Epoch 8/100: 100%|██████████| 391/391 [01:36<00:00,  4.04it/s, loss=0.7502, lr=0.100000]\n"
          ]
        },
        {
          "name": "stdout",
          "output_type": "stream",
          "text": [
            "Epoch 8/100 | Train Acc: 0.6215 | Test Acc: 0.6241\n"
          ]
        },
        {
          "name": "stderr",
          "output_type": "stream",
          "text": [
            "Epoch 9/100: 100%|██████████| 391/391 [01:37<00:00,  4.02it/s, loss=0.8977, lr=0.100000]\n"
          ]
        },
        {
          "name": "stdout",
          "output_type": "stream",
          "text": [
            "Epoch 9/100 | Train Acc: 0.7199 | Test Acc: 0.7193\n"
          ]
        },
        {
          "name": "stderr",
          "output_type": "stream",
          "text": [
            "Epoch 10/100: 100%|██████████| 391/391 [01:37<00:00,  4.02it/s, loss=0.9279, lr=0.100000]\n"
          ]
        },
        {
          "name": "stdout",
          "output_type": "stream",
          "text": [
            "Epoch 10/100 | Train Acc: 0.7302 | Test Acc: 0.7298\n"
          ]
        },
        {
          "name": "stderr",
          "output_type": "stream",
          "text": [
            "Epoch 11/100: 100%|██████████| 391/391 [01:36<00:00,  4.04it/s, loss=0.7613, lr=0.100000]\n"
          ]
        },
        {
          "name": "stdout",
          "output_type": "stream",
          "text": [
            "Epoch 11/100 | Train Acc: 0.7248 | Test Acc: 0.7135\n"
          ]
        },
        {
          "name": "stderr",
          "output_type": "stream",
          "text": [
            "Epoch 12/100: 100%|██████████| 391/391 [01:37<00:00,  4.01it/s, loss=0.7286, lr=0.100000]\n"
          ]
        },
        {
          "name": "stdout",
          "output_type": "stream",
          "text": [
            "Epoch 12/100 | Train Acc: 0.7294 | Test Acc: 0.7072\n"
          ]
        },
        {
          "name": "stderr",
          "output_type": "stream",
          "text": [
            "Epoch 13/100: 100%|██████████| 391/391 [01:36<00:00,  4.04it/s, loss=0.5794, lr=0.100000]\n"
          ]
        },
        {
          "name": "stdout",
          "output_type": "stream",
          "text": [
            "Epoch 13/100 | Train Acc: 0.7379 | Test Acc: 0.7299\n"
          ]
        },
        {
          "name": "stderr",
          "output_type": "stream",
          "text": [
            "Epoch 14/100: 100%|██████████| 391/391 [01:37<00:00,  4.02it/s, loss=0.7382, lr=0.100000]\n"
          ]
        },
        {
          "name": "stdout",
          "output_type": "stream",
          "text": [
            "Epoch 14/100 | Train Acc: 0.7477 | Test Acc: 0.7402\n"
          ]
        },
        {
          "name": "stderr",
          "output_type": "stream",
          "text": [
            "Epoch 15/100: 100%|██████████| 391/391 [01:37<00:00,  4.03it/s, loss=0.5906, lr=0.100000]\n"
          ]
        },
        {
          "name": "stdout",
          "output_type": "stream",
          "text": [
            "Epoch 15/100 | Train Acc: 0.7629 | Test Acc: 0.7533\n"
          ]
        },
        {
          "name": "stderr",
          "output_type": "stream",
          "text": [
            "Epoch 16/100: 100%|██████████| 391/391 [01:36<00:00,  4.03it/s, loss=0.5992, lr=0.100000]\n"
          ]
        },
        {
          "name": "stdout",
          "output_type": "stream",
          "text": [
            "Epoch 16/100 | Train Acc: 0.7917 | Test Acc: 0.7768\n"
          ]
        },
        {
          "name": "stderr",
          "output_type": "stream",
          "text": [
            "Epoch 17/100: 100%|██████████| 391/391 [01:36<00:00,  4.03it/s, loss=0.4250, lr=0.100000]\n"
          ]
        },
        {
          "name": "stdout",
          "output_type": "stream",
          "text": [
            "Epoch 17/100 | Train Acc: 0.8027 | Test Acc: 0.7955\n"
          ]
        },
        {
          "name": "stderr",
          "output_type": "stream",
          "text": [
            "Epoch 18/100: 100%|██████████| 391/391 [01:36<00:00,  4.07it/s, loss=0.5087, lr=0.100000]\n"
          ]
        },
        {
          "name": "stdout",
          "output_type": "stream",
          "text": [
            "Epoch 18/100 | Train Acc: 0.7932 | Test Acc: 0.7749\n"
          ]
        },
        {
          "name": "stderr",
          "output_type": "stream",
          "text": [
            "Epoch 19/100: 100%|██████████| 391/391 [01:35<00:00,  4.10it/s, loss=0.6011, lr=0.100000]\n"
          ]
        },
        {
          "name": "stdout",
          "output_type": "stream",
          "text": [
            "Epoch 19/100 | Train Acc: 0.7836 | Test Acc: 0.7703\n"
          ]
        },
        {
          "name": "stderr",
          "output_type": "stream",
          "text": [
            "Epoch 20/100: 100%|██████████| 391/391 [01:35<00:00,  4.10it/s, loss=0.5041, lr=0.100000]\n"
          ]
        },
        {
          "name": "stdout",
          "output_type": "stream",
          "text": [
            "Epoch 20/100 | Train Acc: 0.7853 | Test Acc: 0.7805\n"
          ]
        },
        {
          "name": "stderr",
          "output_type": "stream",
          "text": [
            "Epoch 21/100: 100%|██████████| 391/391 [01:35<00:00,  4.09it/s, loss=0.4406, lr=0.100000]\n"
          ]
        },
        {
          "name": "stdout",
          "output_type": "stream",
          "text": [
            "Epoch 21/100 | Train Acc: 0.8229 | Test Acc: 0.8053\n"
          ]
        },
        {
          "name": "stderr",
          "output_type": "stream",
          "text": [
            "Epoch 22/100: 100%|██████████| 391/391 [01:36<00:00,  4.07it/s, loss=0.7218, lr=0.100000]\n"
          ]
        },
        {
          "name": "stdout",
          "output_type": "stream",
          "text": [
            "Epoch 22/100 | Train Acc: 0.7796 | Test Acc: 0.7635\n"
          ]
        },
        {
          "name": "stderr",
          "output_type": "stream",
          "text": [
            "Epoch 23/100: 100%|██████████| 391/391 [01:35<00:00,  4.10it/s, loss=0.4631, lr=0.100000]\n"
          ]
        },
        {
          "name": "stdout",
          "output_type": "stream",
          "text": [
            "Epoch 23/100 | Train Acc: 0.7930 | Test Acc: 0.7764\n"
          ]
        },
        {
          "name": "stderr",
          "output_type": "stream",
          "text": [
            "Epoch 24/100: 100%|██████████| 391/391 [01:35<00:00,  4.09it/s, loss=0.4286, lr=0.100000]\n"
          ]
        },
        {
          "name": "stdout",
          "output_type": "stream",
          "text": [
            "Epoch 24/100 | Train Acc: 0.7814 | Test Acc: 0.7700\n"
          ]
        },
        {
          "name": "stderr",
          "output_type": "stream",
          "text": [
            "Epoch 25/100: 100%|██████████| 391/391 [01:35<00:00,  4.09it/s, loss=0.3771, lr=0.100000]\n"
          ]
        },
        {
          "name": "stdout",
          "output_type": "stream",
          "text": [
            "Epoch 25/100 | Train Acc: 0.7702 | Test Acc: 0.7518\n"
          ]
        },
        {
          "name": "stderr",
          "output_type": "stream",
          "text": [
            "Epoch 26/100: 100%|██████████| 391/391 [01:36<00:00,  4.05it/s, loss=0.3908, lr=0.100000]\n"
          ]
        },
        {
          "name": "stdout",
          "output_type": "stream",
          "text": [
            "Epoch 26/100 | Train Acc: 0.8146 | Test Acc: 0.8035\n"
          ]
        },
        {
          "name": "stderr",
          "output_type": "stream",
          "text": [
            "Epoch 27/100: 100%|██████████| 391/391 [01:36<00:00,  4.04it/s, loss=0.3605, lr=0.100000]\n"
          ]
        },
        {
          "name": "stdout",
          "output_type": "stream",
          "text": [
            "Epoch 27/100 | Train Acc: 0.8412 | Test Acc: 0.8270\n"
          ]
        },
        {
          "name": "stderr",
          "output_type": "stream",
          "text": [
            "Epoch 28/100: 100%|██████████| 391/391 [01:36<00:00,  4.03it/s, loss=0.4198, lr=0.100000]\n"
          ]
        },
        {
          "name": "stdout",
          "output_type": "stream",
          "text": [
            "Epoch 28/100 | Train Acc: 0.8008 | Test Acc: 0.7843\n"
          ]
        },
        {
          "name": "stderr",
          "output_type": "stream",
          "text": [
            "Epoch 29/100: 100%|██████████| 391/391 [01:36<00:00,  4.07it/s, loss=0.4481, lr=0.100000]\n"
          ]
        },
        {
          "name": "stdout",
          "output_type": "stream",
          "text": [
            "Epoch 29/100 | Train Acc: 0.7868 | Test Acc: 0.7787\n"
          ]
        },
        {
          "name": "stderr",
          "output_type": "stream",
          "text": [
            "Epoch 30/100: 100%|██████████| 391/391 [01:37<00:00,  4.03it/s, loss=0.5414, lr=0.100000]\n"
          ]
        },
        {
          "name": "stdout",
          "output_type": "stream",
          "text": [
            "Epoch 30/100 | Train Acc: 0.8118 | Test Acc: 0.7996\n"
          ]
        },
        {
          "name": "stderr",
          "output_type": "stream",
          "text": [
            "Epoch 31/100: 100%|██████████| 391/391 [01:36<00:00,  4.03it/s, loss=0.2887, lr=0.010000]\n"
          ]
        },
        {
          "name": "stdout",
          "output_type": "stream",
          "text": [
            "Epoch 31/100 | Train Acc: 0.9271 | Test Acc: 0.9019\n"
          ]
        },
        {
          "name": "stderr",
          "output_type": "stream",
          "text": [
            "Epoch 32/100: 100%|██████████| 391/391 [01:36<00:00,  4.04it/s, loss=0.1282, lr=0.010000]\n"
          ]
        },
        {
          "name": "stdout",
          "output_type": "stream",
          "text": [
            "Epoch 32/100 | Train Acc: 0.9349 | Test Acc: 0.9077\n"
          ]
        },
        {
          "name": "stderr",
          "output_type": "stream",
          "text": [
            "Epoch 33/100: 100%|██████████| 391/391 [01:36<00:00,  4.04it/s, loss=0.2530, lr=0.010000]\n"
          ]
        },
        {
          "name": "stdout",
          "output_type": "stream",
          "text": [
            "Epoch 33/100 | Train Acc: 0.9453 | Test Acc: 0.9100\n"
          ]
        },
        {
          "name": "stderr",
          "output_type": "stream",
          "text": [
            "Epoch 34/100: 100%|██████████| 391/391 [01:36<00:00,  4.03it/s, loss=0.1994, lr=0.010000]\n"
          ]
        },
        {
          "name": "stdout",
          "output_type": "stream",
          "text": [
            "Epoch 34/100 | Train Acc: 0.9466 | Test Acc: 0.9091\n"
          ]
        },
        {
          "name": "stderr",
          "output_type": "stream",
          "text": [
            "Epoch 35/100: 100%|██████████| 391/391 [01:36<00:00,  4.04it/s, loss=0.1615, lr=0.010000]\n"
          ]
        },
        {
          "name": "stdout",
          "output_type": "stream",
          "text": [
            "Epoch 35/100 | Train Acc: 0.9535 | Test Acc: 0.9135\n"
          ]
        },
        {
          "name": "stderr",
          "output_type": "stream",
          "text": [
            "Epoch 36/100: 100%|██████████| 391/391 [01:36<00:00,  4.03it/s, loss=0.1999, lr=0.010000]\n"
          ]
        },
        {
          "name": "stdout",
          "output_type": "stream",
          "text": [
            "Epoch 36/100 | Train Acc: 0.9579 | Test Acc: 0.9174\n"
          ]
        },
        {
          "name": "stderr",
          "output_type": "stream",
          "text": [
            "Epoch 37/100: 100%|██████████| 391/391 [01:37<00:00,  4.03it/s, loss=0.1647, lr=0.010000]\n"
          ]
        },
        {
          "name": "stdout",
          "output_type": "stream",
          "text": [
            "Epoch 37/100 | Train Acc: 0.9615 | Test Acc: 0.9152\n"
          ]
        },
        {
          "name": "stderr",
          "output_type": "stream",
          "text": [
            "Epoch 38/100: 100%|██████████| 391/391 [01:36<00:00,  4.04it/s, loss=0.1908, lr=0.010000]\n"
          ]
        },
        {
          "name": "stdout",
          "output_type": "stream",
          "text": [
            "Epoch 38/100 | Train Acc: 0.9579 | Test Acc: 0.9120\n"
          ]
        },
        {
          "name": "stderr",
          "output_type": "stream",
          "text": [
            "Epoch 39/100: 100%|██████████| 391/391 [01:37<00:00,  4.02it/s, loss=0.3353, lr=0.010000]\n"
          ]
        },
        {
          "name": "stdout",
          "output_type": "stream",
          "text": [
            "Epoch 39/100 | Train Acc: 0.9635 | Test Acc: 0.9129\n"
          ]
        },
        {
          "name": "stderr",
          "output_type": "stream",
          "text": [
            "Epoch 40/100: 100%|██████████| 391/391 [01:37<00:00,  4.03it/s, loss=0.1861, lr=0.010000]\n"
          ]
        },
        {
          "name": "stdout",
          "output_type": "stream",
          "text": [
            "Epoch 40/100 | Train Acc: 0.9678 | Test Acc: 0.9159\n"
          ]
        },
        {
          "name": "stderr",
          "output_type": "stream",
          "text": [
            "Epoch 41/100: 100%|██████████| 391/391 [01:37<00:00,  4.03it/s, loss=0.0934, lr=0.010000]\n"
          ]
        },
        {
          "name": "stdout",
          "output_type": "stream",
          "text": [
            "Epoch 41/100 | Train Acc: 0.9678 | Test Acc: 0.9196\n"
          ]
        },
        {
          "name": "stderr",
          "output_type": "stream",
          "text": [
            "Epoch 42/100: 100%|██████████| 391/391 [01:37<00:00,  4.03it/s, loss=0.1355, lr=0.010000]\n"
          ]
        },
        {
          "name": "stdout",
          "output_type": "stream",
          "text": [
            "Epoch 42/100 | Train Acc: 0.9714 | Test Acc: 0.9176\n"
          ]
        },
        {
          "name": "stderr",
          "output_type": "stream",
          "text": [
            "Epoch 43/100: 100%|██████████| 391/391 [01:36<00:00,  4.03it/s, loss=0.1914, lr=0.010000]\n"
          ]
        },
        {
          "name": "stdout",
          "output_type": "stream",
          "text": [
            "Epoch 43/100 | Train Acc: 0.9647 | Test Acc: 0.9125\n"
          ]
        },
        {
          "name": "stderr",
          "output_type": "stream",
          "text": [
            "Epoch 44/100: 100%|██████████| 391/391 [01:36<00:00,  4.03it/s, loss=0.1168, lr=0.010000]\n"
          ]
        },
        {
          "name": "stdout",
          "output_type": "stream",
          "text": [
            "Epoch 44/100 | Train Acc: 0.9731 | Test Acc: 0.9145\n"
          ]
        },
        {
          "name": "stderr",
          "output_type": "stream",
          "text": [
            "Epoch 45/100: 100%|██████████| 391/391 [01:37<00:00,  4.02it/s, loss=0.1110, lr=0.010000]\n"
          ]
        },
        {
          "name": "stdout",
          "output_type": "stream",
          "text": [
            "Epoch 45/100 | Train Acc: 0.9700 | Test Acc: 0.9136\n"
          ]
        },
        {
          "name": "stderr",
          "output_type": "stream",
          "text": [
            "Epoch 46/100: 100%|██████████| 391/391 [01:37<00:00,  4.03it/s, loss=0.0391, lr=0.010000]\n"
          ]
        },
        {
          "name": "stdout",
          "output_type": "stream",
          "text": [
            "Epoch 46/100 | Train Acc: 0.9726 | Test Acc: 0.9165\n"
          ]
        },
        {
          "name": "stderr",
          "output_type": "stream",
          "text": [
            "Epoch 47/100: 100%|██████████| 391/391 [01:37<00:00,  4.03it/s, loss=0.0856, lr=0.010000]\n"
          ]
        },
        {
          "name": "stdout",
          "output_type": "stream",
          "text": [
            "Epoch 47/100 | Train Acc: 0.9716 | Test Acc: 0.9133\n"
          ]
        },
        {
          "name": "stderr",
          "output_type": "stream",
          "text": [
            "Epoch 48/100: 100%|██████████| 391/391 [01:36<00:00,  4.03it/s, loss=0.1475, lr=0.010000]\n"
          ]
        },
        {
          "name": "stdout",
          "output_type": "stream",
          "text": [
            "Epoch 48/100 | Train Acc: 0.9739 | Test Acc: 0.9172\n"
          ]
        },
        {
          "name": "stderr",
          "output_type": "stream",
          "text": [
            "Epoch 49/100: 100%|██████████| 391/391 [01:37<00:00,  4.02it/s, loss=0.0894, lr=0.010000]\n"
          ]
        },
        {
          "name": "stdout",
          "output_type": "stream",
          "text": [
            "Epoch 49/100 | Train Acc: 0.9738 | Test Acc: 0.9086\n"
          ]
        },
        {
          "name": "stderr",
          "output_type": "stream",
          "text": [
            "Epoch 50/100: 100%|██████████| 391/391 [01:36<00:00,  4.04it/s, loss=0.0974, lr=0.010000]\n"
          ]
        },
        {
          "name": "stdout",
          "output_type": "stream",
          "text": [
            "Epoch 50/100 | Train Acc: 0.9741 | Test Acc: 0.9150\n"
          ]
        },
        {
          "name": "stderr",
          "output_type": "stream",
          "text": [
            "Epoch 51/100: 100%|██████████| 391/391 [01:37<00:00,  4.02it/s, loss=0.1184, lr=0.010000]\n"
          ]
        },
        {
          "name": "stdout",
          "output_type": "stream",
          "text": [
            "Epoch 51/100 | Train Acc: 0.9731 | Test Acc: 0.9124\n"
          ]
        },
        {
          "name": "stderr",
          "output_type": "stream",
          "text": [
            "Epoch 52/100: 100%|██████████| 391/391 [01:36<00:00,  4.03it/s, loss=0.0916, lr=0.010000]\n"
          ]
        },
        {
          "name": "stdout",
          "output_type": "stream",
          "text": [
            "Epoch 52/100 | Train Acc: 0.9736 | Test Acc: 0.9133\n"
          ]
        },
        {
          "name": "stderr",
          "output_type": "stream",
          "text": [
            "Epoch 53/100: 100%|██████████| 391/391 [01:36<00:00,  4.03it/s, loss=0.1193, lr=0.010000]\n"
          ]
        },
        {
          "name": "stdout",
          "output_type": "stream",
          "text": [
            "Epoch 53/100 | Train Acc: 0.9716 | Test Acc: 0.9098\n"
          ]
        },
        {
          "name": "stderr",
          "output_type": "stream",
          "text": [
            "Epoch 54/100: 100%|██████████| 391/391 [01:36<00:00,  4.04it/s, loss=0.0487, lr=0.010000]\n"
          ]
        },
        {
          "name": "stdout",
          "output_type": "stream",
          "text": [
            "Epoch 54/100 | Train Acc: 0.9603 | Test Acc: 0.9009\n"
          ]
        },
        {
          "name": "stderr",
          "output_type": "stream",
          "text": [
            "Epoch 55/100: 100%|██████████| 391/391 [01:37<00:00,  4.03it/s, loss=0.0800, lr=0.010000]\n"
          ]
        },
        {
          "name": "stdout",
          "output_type": "stream",
          "text": [
            "Epoch 55/100 | Train Acc: 0.9753 | Test Acc: 0.9150\n"
          ]
        },
        {
          "name": "stderr",
          "output_type": "stream",
          "text": [
            "Epoch 56/100: 100%|██████████| 391/391 [01:36<00:00,  4.05it/s, loss=0.0849, lr=0.010000]\n"
          ]
        },
        {
          "name": "stdout",
          "output_type": "stream",
          "text": [
            "Epoch 56/100 | Train Acc: 0.9738 | Test Acc: 0.9116\n"
          ]
        },
        {
          "name": "stderr",
          "output_type": "stream",
          "text": [
            "Epoch 57/100: 100%|██████████| 391/391 [01:36<00:00,  4.04it/s, loss=0.1083, lr=0.010000]\n"
          ]
        },
        {
          "name": "stdout",
          "output_type": "stream",
          "text": [
            "Epoch 57/100 | Train Acc: 0.9768 | Test Acc: 0.9094\n"
          ]
        },
        {
          "name": "stderr",
          "output_type": "stream",
          "text": [
            "Epoch 58/100: 100%|██████████| 391/391 [01:36<00:00,  4.04it/s, loss=0.1088, lr=0.010000]\n"
          ]
        },
        {
          "name": "stdout",
          "output_type": "stream",
          "text": [
            "Epoch 58/100 | Train Acc: 0.9773 | Test Acc: 0.9111\n"
          ]
        },
        {
          "name": "stderr",
          "output_type": "stream",
          "text": [
            "Epoch 59/100: 100%|██████████| 391/391 [01:37<00:00,  4.03it/s, loss=0.2209, lr=0.010000]\n"
          ]
        },
        {
          "name": "stdout",
          "output_type": "stream",
          "text": [
            "Epoch 59/100 | Train Acc: 0.9736 | Test Acc: 0.9085\n"
          ]
        },
        {
          "name": "stderr",
          "output_type": "stream",
          "text": [
            "Epoch 60/100: 100%|██████████| 391/391 [01:36<00:00,  4.04it/s, loss=0.0788, lr=0.010000]\n"
          ]
        },
        {
          "name": "stdout",
          "output_type": "stream",
          "text": [
            "Epoch 60/100 | Train Acc: 0.9713 | Test Acc: 0.9049\n"
          ]
        },
        {
          "name": "stderr",
          "output_type": "stream",
          "text": [
            "Epoch 61/100: 100%|██████████| 391/391 [01:37<00:00,  4.02it/s, loss=0.0704, lr=0.001000]\n"
          ]
        },
        {
          "name": "stdout",
          "output_type": "stream",
          "text": [
            "Epoch 61/100 | Train Acc: 0.9939 | Test Acc: 0.9301\n"
          ]
        },
        {
          "name": "stderr",
          "output_type": "stream",
          "text": [
            "Epoch 62/100: 100%|██████████| 391/391 [01:36<00:00,  4.03it/s, loss=0.0433, lr=0.001000]\n"
          ]
        },
        {
          "name": "stdout",
          "output_type": "stream",
          "text": [
            "Epoch 62/100 | Train Acc: 0.9954 | Test Acc: 0.9314\n"
          ]
        },
        {
          "name": "stderr",
          "output_type": "stream",
          "text": [
            "Epoch 63/100: 100%|██████████| 391/391 [01:37<00:00,  4.03it/s, loss=0.0276, lr=0.001000]\n"
          ]
        },
        {
          "name": "stdout",
          "output_type": "stream",
          "text": [
            "Epoch 63/100 | Train Acc: 0.9968 | Test Acc: 0.9330\n"
          ]
        },
        {
          "name": "stderr",
          "output_type": "stream",
          "text": [
            "Epoch 64/100: 100%|██████████| 391/391 [01:36<00:00,  4.04it/s, loss=0.0158, lr=0.001000]\n"
          ]
        },
        {
          "name": "stdout",
          "output_type": "stream",
          "text": [
            "Epoch 64/100 | Train Acc: 0.9977 | Test Acc: 0.9339\n"
          ]
        },
        {
          "name": "stderr",
          "output_type": "stream",
          "text": [
            "Epoch 65/100: 100%|██████████| 391/391 [01:37<00:00,  4.02it/s, loss=0.0094, lr=0.001000]\n"
          ]
        },
        {
          "name": "stdout",
          "output_type": "stream",
          "text": [
            "Epoch 65/100 | Train Acc: 0.9978 | Test Acc: 0.9341\n"
          ]
        },
        {
          "name": "stderr",
          "output_type": "stream",
          "text": [
            "Epoch 66/100: 100%|██████████| 391/391 [01:36<00:00,  4.04it/s, loss=0.0058, lr=0.001000]\n"
          ]
        },
        {
          "name": "stdout",
          "output_type": "stream",
          "text": [
            "Epoch 66/100 | Train Acc: 0.9980 | Test Acc: 0.9333\n"
          ]
        },
        {
          "name": "stderr",
          "output_type": "stream",
          "text": [
            "Epoch 67/100: 100%|██████████| 391/391 [01:37<00:00,  4.02it/s, loss=0.0076, lr=0.001000]\n"
          ]
        },
        {
          "name": "stdout",
          "output_type": "stream",
          "text": [
            "Epoch 67/100 | Train Acc: 0.9983 | Test Acc: 0.9349\n"
          ]
        },
        {
          "name": "stderr",
          "output_type": "stream",
          "text": [
            "Epoch 68/100: 100%|██████████| 391/391 [01:36<00:00,  4.04it/s, loss=0.0188, lr=0.001000]\n"
          ]
        },
        {
          "name": "stdout",
          "output_type": "stream",
          "text": [
            "Epoch 68/100 | Train Acc: 0.9985 | Test Acc: 0.9333\n"
          ]
        },
        {
          "name": "stderr",
          "output_type": "stream",
          "text": [
            "Epoch 69/100: 100%|██████████| 391/391 [01:36<00:00,  4.03it/s, loss=0.0036, lr=0.001000]\n"
          ]
        },
        {
          "name": "stdout",
          "output_type": "stream",
          "text": [
            "Epoch 69/100 | Train Acc: 0.9986 | Test Acc: 0.9337\n"
          ]
        },
        {
          "name": "stderr",
          "output_type": "stream",
          "text": [
            "Epoch 70/100: 100%|██████████| 391/391 [01:36<00:00,  4.03it/s, loss=0.0066, lr=0.001000]\n"
          ]
        },
        {
          "name": "stdout",
          "output_type": "stream",
          "text": [
            "Epoch 70/100 | Train Acc: 0.9989 | Test Acc: 0.9346\n"
          ]
        },
        {
          "name": "stderr",
          "output_type": "stream",
          "text": [
            "Epoch 71/100: 100%|██████████| 391/391 [01:37<00:00,  4.03it/s, loss=0.0294, lr=0.001000]\n"
          ]
        },
        {
          "name": "stdout",
          "output_type": "stream",
          "text": [
            "Epoch 71/100 | Train Acc: 0.9987 | Test Acc: 0.9346\n"
          ]
        },
        {
          "name": "stderr",
          "output_type": "stream",
          "text": [
            "Epoch 72/100: 100%|██████████| 391/391 [01:36<00:00,  4.04it/s, loss=0.0308, lr=0.001000]\n"
          ]
        },
        {
          "name": "stdout",
          "output_type": "stream",
          "text": [
            "Epoch 72/100 | Train Acc: 0.9990 | Test Acc: 0.9360\n"
          ]
        },
        {
          "name": "stderr",
          "output_type": "stream",
          "text": [
            "Epoch 73/100: 100%|██████████| 391/391 [01:36<00:00,  4.03it/s, loss=0.0164, lr=0.001000]\n"
          ]
        },
        {
          "name": "stdout",
          "output_type": "stream",
          "text": [
            "Epoch 73/100 | Train Acc: 0.9990 | Test Acc: 0.9336\n"
          ]
        },
        {
          "name": "stderr",
          "output_type": "stream",
          "text": [
            "Epoch 74/100: 100%|██████████| 391/391 [01:36<00:00,  4.05it/s, loss=0.0110, lr=0.001000]\n"
          ]
        },
        {
          "name": "stdout",
          "output_type": "stream",
          "text": [
            "Epoch 74/100 | Train Acc: 0.9992 | Test Acc: 0.9350\n"
          ]
        },
        {
          "name": "stderr",
          "output_type": "stream",
          "text": [
            "Epoch 75/100: 100%|██████████| 391/391 [01:35<00:00,  4.10it/s, loss=0.0159, lr=0.001000]\n"
          ]
        },
        {
          "name": "stdout",
          "output_type": "stream",
          "text": [
            "Epoch 75/100 | Train Acc: 0.9992 | Test Acc: 0.9349\n"
          ]
        },
        {
          "name": "stderr",
          "output_type": "stream",
          "text": [
            "Epoch 76/100: 100%|██████████| 391/391 [01:35<00:00,  4.10it/s, loss=0.0024, lr=0.001000]\n"
          ]
        },
        {
          "name": "stdout",
          "output_type": "stream",
          "text": [
            "Epoch 76/100 | Train Acc: 0.9991 | Test Acc: 0.9349\n"
          ]
        },
        {
          "name": "stderr",
          "output_type": "stream",
          "text": [
            "Epoch 77/100: 100%|██████████| 391/391 [01:35<00:00,  4.09it/s, loss=0.0097, lr=0.001000]\n"
          ]
        },
        {
          "name": "stdout",
          "output_type": "stream",
          "text": [
            "Epoch 77/100 | Train Acc: 0.9994 | Test Acc: 0.9346\n"
          ]
        },
        {
          "name": "stderr",
          "output_type": "stream",
          "text": [
            "Epoch 78/100: 100%|██████████| 391/391 [01:35<00:00,  4.09it/s, loss=0.0026, lr=0.001000]\n"
          ]
        },
        {
          "name": "stdout",
          "output_type": "stream",
          "text": [
            "Epoch 78/100 | Train Acc: 0.9994 | Test Acc: 0.9334\n"
          ]
        },
        {
          "name": "stderr",
          "output_type": "stream",
          "text": [
            "Epoch 79/100: 100%|██████████| 391/391 [01:35<00:00,  4.09it/s, loss=0.0397, lr=0.001000]\n"
          ]
        },
        {
          "name": "stdout",
          "output_type": "stream",
          "text": [
            "Epoch 79/100 | Train Acc: 0.9995 | Test Acc: 0.9343\n"
          ]
        },
        {
          "name": "stderr",
          "output_type": "stream",
          "text": [
            "Epoch 80/100: 100%|██████████| 391/391 [01:35<00:00,  4.09it/s, loss=0.0026, lr=0.001000]\n"
          ]
        },
        {
          "name": "stdout",
          "output_type": "stream",
          "text": [
            "Epoch 80/100 | Train Acc: 0.9995 | Test Acc: 0.9344\n"
          ]
        },
        {
          "name": "stderr",
          "output_type": "stream",
          "text": [
            "Epoch 81/100: 100%|██████████| 391/391 [01:35<00:00,  4.09it/s, loss=0.0009, lr=0.001000]\n"
          ]
        },
        {
          "name": "stdout",
          "output_type": "stream",
          "text": [
            "Epoch 81/100 | Train Acc: 0.9993 | Test Acc: 0.9344\n"
          ]
        },
        {
          "name": "stderr",
          "output_type": "stream",
          "text": [
            "Epoch 82/100: 100%|██████████| 391/391 [01:35<00:00,  4.08it/s, loss=0.0058, lr=0.001000]\n"
          ]
        },
        {
          "name": "stdout",
          "output_type": "stream",
          "text": [
            "Epoch 82/100 | Train Acc: 0.9994 | Test Acc: 0.9342\n"
          ]
        },
        {
          "name": "stderr",
          "output_type": "stream",
          "text": [
            "Epoch 83/100: 100%|██████████| 391/391 [01:35<00:00,  4.09it/s, loss=0.0006, lr=0.001000]\n"
          ]
        },
        {
          "name": "stdout",
          "output_type": "stream",
          "text": [
            "Epoch 83/100 | Train Acc: 0.9995 | Test Acc: 0.9376\n"
          ]
        },
        {
          "name": "stderr",
          "output_type": "stream",
          "text": [
            "Epoch 84/100: 100%|██████████| 391/391 [01:35<00:00,  4.10it/s, loss=0.0031, lr=0.001000]\n"
          ]
        },
        {
          "name": "stdout",
          "output_type": "stream",
          "text": [
            "Epoch 84/100 | Train Acc: 0.9995 | Test Acc: 0.9353\n"
          ]
        },
        {
          "name": "stderr",
          "output_type": "stream",
          "text": [
            "Epoch 85/100: 100%|██████████| 391/391 [01:35<00:00,  4.09it/s, loss=0.0194, lr=0.001000]\n"
          ]
        },
        {
          "name": "stdout",
          "output_type": "stream",
          "text": [
            "Epoch 85/100 | Train Acc: 0.9996 | Test Acc: 0.9360\n"
          ]
        },
        {
          "name": "stderr",
          "output_type": "stream",
          "text": [
            "Epoch 86/100: 100%|██████████| 391/391 [01:35<00:00,  4.09it/s, loss=0.0118, lr=0.001000]\n"
          ]
        },
        {
          "name": "stdout",
          "output_type": "stream",
          "text": [
            "Epoch 86/100 | Train Acc: 0.9996 | Test Acc: 0.9347\n"
          ]
        },
        {
          "name": "stderr",
          "output_type": "stream",
          "text": [
            "Epoch 87/100: 100%|██████████| 391/391 [01:35<00:00,  4.09it/s, loss=0.0039, lr=0.001000]\n"
          ]
        },
        {
          "name": "stdout",
          "output_type": "stream",
          "text": [
            "Epoch 87/100 | Train Acc: 0.9995 | Test Acc: 0.9362\n"
          ]
        },
        {
          "name": "stderr",
          "output_type": "stream",
          "text": [
            "Epoch 88/100: 100%|██████████| 391/391 [01:35<00:00,  4.10it/s, loss=0.0035, lr=0.001000]\n"
          ]
        },
        {
          "name": "stdout",
          "output_type": "stream",
          "text": [
            "Epoch 88/100 | Train Acc: 0.9996 | Test Acc: 0.9346\n"
          ]
        },
        {
          "name": "stderr",
          "output_type": "stream",
          "text": [
            "Epoch 89/100: 100%|██████████| 391/391 [01:35<00:00,  4.08it/s, loss=0.0031, lr=0.001000]\n"
          ]
        },
        {
          "name": "stdout",
          "output_type": "stream",
          "text": [
            "Epoch 89/100 | Train Acc: 0.9997 | Test Acc: 0.9347\n"
          ]
        },
        {
          "name": "stderr",
          "output_type": "stream",
          "text": [
            "Epoch 90/100: 100%|██████████| 391/391 [01:35<00:00,  4.10it/s, loss=0.0072, lr=0.001000]\n"
          ]
        },
        {
          "name": "stdout",
          "output_type": "stream",
          "text": [
            "Epoch 90/100 | Train Acc: 0.9996 | Test Acc: 0.9340\n"
          ]
        },
        {
          "name": "stderr",
          "output_type": "stream",
          "text": [
            "Epoch 91/100: 100%|██████████| 391/391 [01:35<00:00,  4.08it/s, loss=0.0020, lr=0.000100]\n"
          ]
        },
        {
          "name": "stdout",
          "output_type": "stream",
          "text": [
            "Epoch 91/100 | Train Acc: 0.9998 | Test Acc: 0.9350\n"
          ]
        },
        {
          "name": "stderr",
          "output_type": "stream",
          "text": [
            "Epoch 92/100: 100%|██████████| 391/391 [01:35<00:00,  4.10it/s, loss=0.0009, lr=0.000100]\n"
          ]
        },
        {
          "name": "stdout",
          "output_type": "stream",
          "text": [
            "Epoch 92/100 | Train Acc: 0.9997 | Test Acc: 0.9347\n"
          ]
        },
        {
          "name": "stderr",
          "output_type": "stream",
          "text": [
            "Epoch 93/100: 100%|██████████| 391/391 [01:35<00:00,  4.10it/s, loss=0.0053, lr=0.000100]\n"
          ]
        },
        {
          "name": "stdout",
          "output_type": "stream",
          "text": [
            "Epoch 93/100 | Train Acc: 0.9997 | Test Acc: 0.9342\n"
          ]
        },
        {
          "name": "stderr",
          "output_type": "stream",
          "text": [
            "Epoch 94/100: 100%|██████████| 391/391 [01:35<00:00,  4.09it/s, loss=0.0064, lr=0.000100]\n"
          ]
        },
        {
          "name": "stdout",
          "output_type": "stream",
          "text": [
            "Epoch 94/100 | Train Acc: 0.9997 | Test Acc: 0.9355\n"
          ]
        },
        {
          "name": "stderr",
          "output_type": "stream",
          "text": [
            "Epoch 95/100: 100%|██████████| 391/391 [01:35<00:00,  4.09it/s, loss=0.0067, lr=0.000100]\n"
          ]
        },
        {
          "name": "stdout",
          "output_type": "stream",
          "text": [
            "Epoch 95/100 | Train Acc: 0.9998 | Test Acc: 0.9354\n"
          ]
        },
        {
          "name": "stderr",
          "output_type": "stream",
          "text": [
            "Epoch 96/100: 100%|██████████| 391/391 [01:35<00:00,  4.08it/s, loss=0.0062, lr=0.000100]\n"
          ]
        },
        {
          "name": "stdout",
          "output_type": "stream",
          "text": [
            "Epoch 96/100 | Train Acc: 0.9998 | Test Acc: 0.9352\n"
          ]
        },
        {
          "name": "stderr",
          "output_type": "stream",
          "text": [
            "Epoch 97/100: 100%|██████████| 391/391 [01:35<00:00,  4.08it/s, loss=0.0212, lr=0.000100]\n"
          ]
        },
        {
          "name": "stdout",
          "output_type": "stream",
          "text": [
            "Epoch 97/100 | Train Acc: 0.9997 | Test Acc: 0.9369\n"
          ]
        },
        {
          "name": "stderr",
          "output_type": "stream",
          "text": [
            "Epoch 98/100: 100%|██████████| 391/391 [01:35<00:00,  4.10it/s, loss=0.0018, lr=0.000100]\n"
          ]
        },
        {
          "name": "stdout",
          "output_type": "stream",
          "text": [
            "Epoch 98/100 | Train Acc: 0.9999 | Test Acc: 0.9347\n"
          ]
        },
        {
          "name": "stderr",
          "output_type": "stream",
          "text": [
            "Epoch 99/100: 100%|██████████| 391/391 [01:36<00:00,  4.07it/s, loss=0.0220, lr=0.000100]\n"
          ]
        },
        {
          "name": "stdout",
          "output_type": "stream",
          "text": [
            "Epoch 99/100 | Train Acc: 0.9997 | Test Acc: 0.9351\n"
          ]
        },
        {
          "name": "stderr",
          "output_type": "stream",
          "text": [
            "Epoch 100/100: 100%|██████████| 391/391 [01:35<00:00,  4.10it/s, loss=0.0044, lr=0.000100]\n"
          ]
        },
        {
          "name": "stdout",
          "output_type": "stream",
          "text": [
            "Epoch 100/100 | Train Acc: 0.9999 | Test Acc: 0.9352\n",
            "Training time for ResNet101: 11003.96 seconds\n"
          ]
        },
        {
          "data": {
            "image/png": "[encoded data removed]",
            "text/plain": [
              "<Figure size 1800x1200 with 4 Axes>"
            ]
          },
          "metadata": {},
          "output_type": "display_data"
        }
      ],
      "source": [
        "def run_experiment(config):\n",
        "    all_results = {\n",
        "        'test_accuracies': {}, # Store list of test accuracies per epoch\n",
        "        'parameters': {},\n",
        "        'training_times': {},\n",
        "        'gradient_flows': {} # Store gradient history per model\n",
        "    }\n",
        "    epochs_trained = {} # To track how many epochs each model actually ran for plotting\n",
        "\n",
        "    # Clear global tracker at the start of the experiment\n",
        "    global_grad_tracker.clear()\n",
        "\n",
        "    for model_name in [\"ResNet18\", \"ResNet50\", \"ResNet101\"]:\n",
        "        print(f\"\\nRunning: {model_name}\")\n",
        "\n",
        "        train_loader, test_loader = get_dataloaders(\n",
        "            config[\"dataset_name\"], config[\"data_root\"], config[\"batch_size\"]\n",
        "        )\n",
        "\n",
        "        model = get_model(model_name, config[\"num_classes\"]).to(config[\"device\"])\n",
        "\n",
        "        num_params = count_parameters(model)\n",
        "        all_results['parameters'][model_name] = num_params\n",
        "        print(f\"Number of parameters: {num_params:,}\")\n",
        "\n",
        "        # Train model\n",
        "        train_acc_history, test_acc_history, training_time, gradient_history_for_model = train(\n",
        "            model, train_loader, test_loader,\n",
        "            config[\"device\"], config[\"epochs\"], config[\"learning_rate\"],\n",
        "            config[\"momentum\"], config[\"weight_decay\"], config[\"gamma\"], config[\"step_size\"]\n",
        "        )\n",
        "\n",
        "        all_results['test_accuracies'][model_name] = test_acc_history\n",
        "        all_results['training_times'][model_name] = training_time\n",
        "        all_results['gradient_flows'][model_name] = gradient_history_for_model\n",
        "        epochs_trained[model_name] = len(test_acc_history) # Record actual epochs run\n",
        "\n",
        "        print(f\"Training time for {model_name}: {training_time:.2f} seconds\")\n",
        "\n",
        "    plot_results(all_results, config[\"save_path\"], epochs_trained)\n",
        "\n",
        "if __name__ == \"__main__\":\n",
        "    run_experiment(CONFIG)"
      ]
    },
    {
      "cell_type": "markdown",
      "metadata": {},
      "source": [
        "## 실험 요약 표\n",
        "\n",
        "| **모델** | **최종 정확도 (%)** | **파라미터 수** | **총 학습 시간 (초)** |\n",
        "| --- | --- | --- | --- |\n",
        "| ResNet-18 | 94.56 | 약 11M | 약 2800초 |\n",
        "| ResNet-50 | 93.54 | 약 25M | 약 6400초 |\n",
        "| ResNet-101 | 93.69 | 약 44M | 약 11000초 |"
      ]
    },
    {
      "cell_type": "markdown",
      "metadata": {},
      "source": [
        "### 성능 비교\n",
        "\n",
        "- ResNet-18이 오히려 가장 높은 성능을 기록하였다. \n",
        "- ResNet-50과 101은 정확도에서 소폭 낮은 결과를 보였다. 하지만 3 모델 모두 90프로가 넘는 성능을 달성하였다.\n",
        "- 레이어가 깊어짐에도 성능이 하락하지 않고 유지되는 모습이다."
      ]
    },
    {
      "cell_type": "markdown",
      "metadata": {},
      "source": [
        "![resnet_comparison](./figs/resnet_comparison.png)"
      ]
    },
    {
      "cell_type": "markdown",
      "metadata": {},
      "source": [
        "### 모델 파라미터 수 비교 \n",
        "\n",
        "- 모델의 깊이에 비례하여 파라미터 수는 2배, 4배 이상 증가하였다.\n",
        "- 그러나 성능 향상은 이에 비례하지 않았으며, 특히 ResNet-101은 ResNet-18보다 약 4배 많은 파라미터를 사용하고도 성능은 오히려 낮거나 유사하다.\n",
        "- 이는 성능 대비 연산 자원 낭비 가능성을 보여준다.\n",
        "\n",
        "### 학습 시간 비교\n",
        "- 깊이에 따라 학습 시간도 선형 혹은 그 이상으로 증가하였다.\n",
        "- ResNet-101은 ResNet-18 대비 약 4배 더 긴 학습 시간이 소요되었지만, 정확도에서는 오히려 밀리는 결과를 보였다.\n",
        "\n",
        "### Gradient 흐름 분석\n",
        "- 모든 모델에서 초기 계층(conv1)에서는 비교적 높은 gradient가 나타났으며, 이후 깊은 계층으로 갈수록 gradient가 감소하는 경향을 보인다.\n",
        "- ResNet-18은 전체적으로 gradient 크기 분포가 높고, 중간 계층에서도 gradient가 살아 있는 구조를 보임.\n",
        "- ResNet-50 및 101은 deeper layer에서 gradient가 더 희박하게 나타났으며, 특히 layer4 영역에서는 세 모델 모두 유의미한 감소가 확인되었다.\n",
        "- 이는 skip connection이 gradient 흐름을 돕기는 하나, 네트워크가 깊어질수록 residual path의 attenuation도 일부 존재함을 시사한다."
      ]
    },
    {
      "cell_type": "markdown",
      "metadata": {},
      "source": [
        "## 결론\n",
        "\n",
        "본 실험은 ResNet 계열 구조(ResNet-18, ResNet-50, ResNet-101)를 대상으로 깊이 변화에 따른 분류 성능, 파라미터 수, 학습 시간, 그리고 gradient 흐름을 비교 분석하였다. 실험 결과는 다음과 같은 핵심적인 결론을 도출한다.\n",
        "\n",
        "1. 성능 유지의 견고함\n",
        "\n",
        "ResNet-18부터 ResNet-101까지 세 모델 모두 CIFAR-10에서 93~94%의 높은 정확도를 기록하였으며, 이는 네트워크 깊이가 증가하더라도 성능이 하락하지 않고 안정적으로 유지된다는 구조적 강인성을 보여준다.\n",
        "\n",
        "2. Residual 구조의 효과성\n",
        "\n",
        "Gradient 흐름 분석 결과, 세 모델 모두 전 계층에 걸쳐 평균 gradient가 일정 수준으로 유지되었으며, vanishing gradient 현상이 뚜렷하게 나타나지 않았다. 이는 skip connection이 학습의 안정성을 유지하고 깊은 구조에서도 효과적인 학습을 가능하게 한다는 것을 실증적으로 입증한다.\n",
        "\n",
        "3. 확장 가능성과 효율성의 Trade-off\n",
        "\n",
        "ResNet-101은 ResNet-18에 비해 약 4배의 파라미터 수와 3~4배 이상의 학습 시간을 요구했음에도 불구하고 성능 향상은 거의 없었다. 따라서, 실제 응용에서는 정확도 유지와 연산 효율성 간 균형을 고려한 구조 선택이 중요하며, ResNet-18은 가장 효율적인 선택지로 볼 수 있다.\n"
      ]
    }
  ],
  "metadata": {
    "accelerator": "GPU",
    "colab": {
      "gpuType": "A100",
      "machine_shape": "hm",
      "provenance": []
    },
    "kernelspec": {
      "display_name": "Python 3",
      "name": "python3"
    },
    "language_info": {
      "name": "python"
    }
  },
  "nbformat": 4,
  "nbformat_minor": 0
}
